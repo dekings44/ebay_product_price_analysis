{
 "cells": [
  {
   "cell_type": "code",
   "execution_count": 68,
   "id": "827ad868-67d2-4b9e-85a2-0ba352de7d5d",
   "metadata": {},
   "outputs": [],
   "source": [
    "#Importing the necessary libraries and modules\n",
    "from urllib.request import Request, urlopen\n",
    "import requests\n",
    "from bs4 import BeautifulSoup\n",
    "import re\n",
    "import pandas as pd\n",
    "import numpy as np\n",
    "from time import sleep\n",
    "from random import randint\n",
    "import matplotlib.pyplot as plt\n",
    "import seaborn as sns\n",
    "import plotly.express as px"
   ]
  },
  {
   "cell_type": "code",
   "execution_count": 69,
   "id": "d60be648-62d5-4d9c-b816-5a5907243d71",
   "metadata": {},
   "outputs": [],
   "source": [
    "header = {'User-Agent':'Mozilla/5.0 (Macintosh; Intel Mac OS X 10_13_6) AppleWebKit/537.36 (KHTML, like Gecko) Chrome/71.0.3578.98 Safari/537.36'}"
   ]
  },
  {
   "cell_type": "code",
   "execution_count": 72,
   "id": "ea64dc2f-9d43-45d2-8993-7a6d7cca364d",
   "metadata": {
    "tags": []
   },
   "outputs": [],
   "source": [
    "page = requests.get(\"https://www.ebay.co.uk/sch/i.html?_from=R40&_nkw=laptops&_sacat=0&LH_ItemCondition=1000%7C1500%7C2000%7C2010%7C2020&LH_Sold=1&rt=nc\", headers = header)"
   ]
  },
  {
   "cell_type": "code",
   "execution_count": 74,
   "id": "abff864a-7ceb-4cbf-953a-53b02285734d",
   "metadata": {},
   "outputs": [],
   "source": [
    "link = 'https://www.ebay.co.uk/sch/i.html?_from=R40&_nkw=laptops&_sacat=0&LH_ItemCondition=1000%7C1500%7C2000%7C2010%7C2020&LH_Sold=1&rt=nc'"
   ]
  },
  {
   "cell_type": "code",
   "execution_count": 75,
   "id": "bfc94081-bac6-4566-af17-c3620624976a",
   "metadata": {},
   "outputs": [],
   "source": [
    "req = Request(link, headers = header)"
   ]
  },
  {
   "cell_type": "code",
   "execution_count": 57,
   "id": "97ecce70-66bd-4968-9cd1-05e2b665d284",
   "metadata": {
    "tags": []
   },
   "outputs": [
    {
     "name": "stdout",
     "output_type": "stream",
     "text": [
      "6\n"
     ]
    }
   ],
   "source": [
    "# webpage = urlopen(req).read()\n",
    "\n",
    "# with requests.Session() as c:\n",
    "#     soup = BeautifulSoup(webpage, 'html5lib')\n",
    "#     print(len(soup))"
   ]
  },
  {
   "cell_type": "code",
   "execution_count": 76,
   "id": "7e913078-2f9f-4d21-a6ac-97292d522202",
   "metadata": {},
   "outputs": [],
   "source": [
    "webpage = urlopen(req).read()"
   ]
  },
  {
   "cell_type": "code",
   "execution_count": 77,
   "id": "b76ea122-763a-4726-add8-2438706f238e",
   "metadata": {},
   "outputs": [],
   "source": [
    "soup1 = BeautifulSoup(webpage, 'html5lib')"
   ]
  },
  {
   "cell_type": "code",
   "execution_count": 79,
   "id": "b85759da-019b-4bac-944d-81d3d18a10f4",
   "metadata": {},
   "outputs": [
    {
     "name": "stdout",
     "output_type": "stream",
     "text": [
      "6\n"
     ]
    }
   ],
   "source": [
    "print(len(soup1))"
   ]
  },
  {
   "cell_type": "code",
   "execution_count": 59,
   "id": "988503b7-4bc9-473d-b2bf-7d713f16bf2c",
   "metadata": {},
   "outputs": [],
   "source": [
    "soup = BeautifulSoup(page.content, 'html5lib')"
   ]
  },
  {
   "cell_type": "code",
   "execution_count": 60,
   "id": "a5f60c0d-48a5-4a4c-a02f-0f2afbdbbd6a",
   "metadata": {},
   "outputs": [
    {
     "name": "stdout",
     "output_type": "stream",
     "text": [
      "<html><head>\n",
      "<title>Service Unavailable</title>\n",
      "</head><body>\n",
      "<h1>Service Unavailable - Zero size object</h1>\n",
      "The server is temporarily unable to service your request.  Please try again\n",
      "later.<p>\n",
      "Reference #15.5e57dd58.1658527796.cb4e9dd\n",
      "\n",
      "</p></body></html>\n"
     ]
    }
   ],
   "source": [
    "print(soup)"
   ]
  },
  {
   "cell_type": "code",
   "execution_count": 83,
   "id": "1333c534-aa8e-4161-b088-d9389048e467",
   "metadata": {},
   "outputs": [],
   "source": [
    "content = soup1.find_all('div', {'class' : 's-item__info clearfix'})"
   ]
  },
  {
   "cell_type": "code",
   "execution_count": 105,
   "id": "becb20ea-c36f-46ee-8922-826b06004130",
   "metadata": {},
   "outputs": [
    {
     "name": "stdout",
     "output_type": "stream",
     "text": [
      "None\n",
      "<h3 class=\"s-item__title s-item__title--has-tags\"><span class=\"LIGHT_HIGHLIGHT\">New listing</span>Acer Nitro 5 AN515-57 15.6\" 144Hz (512GB SSD, Intel Core i7-11800H, 2.4GHz, 16GB</h3>\n",
      "<h3 class=\"s-item__title s-item__title--has-tags\">Lenovo Ideapad duet 3i 1y Office tablet 10.3â€� FHD 1920x1200 Intel N4020 4GB 64GB</h3>\n",
      "<h3 class=\"s-item__title s-item__title--has-tags\">AMD K6 MMX Processor Sticker Badge for desktop or Laptop PC</h3>\n",
      "<h3 class=\"s-item__title s-item__title--has-tags\">HP Stream 11 ak0514sa 11.6\" 64GB eMMC, Intel Celeron N4020 1.1GHz 4GB RAM </h3>\n",
      "<h3 class=\"s-item__title s-item__title--has-tags\">HP Dragonfly G2 2-in-1 Touch-Laptop 13.3\" #4K9W5EA - New - 3 Yr Warr Upg. Win11</h3>\n",
      "<h3 class=\"s-item__title s-item__title--has-tags\">HP EliteBook 830 G8 13.3\" Intel Core i5-1135G7 up to 4.2 GHz 8GB RAM 256GB SSD</h3>\n",
      "<h3 class=\"s-item__title s-item__title--has-tags\">ASUS chromebook C204MA-GJ0080-3Y 11\"</h3>\n",
      "<h3 class=\"s-item__title s-item__title--has-tags\">HP ProBook 455 G7 15.6\" Laptop - AMD Ryzen 5, 256 GB SSD, 8gb RAM Silver</h3>\n",
      "<h3 class=\"s-item__title s-item__title--has-tags\">BRAND NEW Lenovo ThinkPad P50 Laptop i7-6820HQ 32GB 256GB 15.6\"Â  Gaming RRP Â£1K+</h3>\n",
      "<h3 class=\"s-item__title s-item__title--has-tags\">HP Pavilion Intel Core i3 10th Gen 8GB 256GB 14\" Laptop 14-ce3602sa Win10 Purple</h3>\n",
      "<h3 class=\"s-item__title s-item__title--has-tags\">Dell XPS 13 9305 13.3\" (512GB, Intel Core i7-1165G7 4.70 GHz , 8GB)...</h3>\n",
      "<h3 class=\"s-item__title s-item__title--has-tags\">DELL XPS 15 9510 4.6 i7 11800H 32GB 1TB, RTX 3050 Ti, 15.6 OLED 3456x2160 Win 11</h3>\n",
      "<h3 class=\"s-item__title s-item__title--has-tags\">Lenovo ThinkPad T14s Gen 2 - Intel Core i7-1185G7, 16GB RAM, 512GB SSD, 14\".</h3>\n",
      "<h3 class=\"s-item__title s-item__title--has-tags\">âœ…ï¸�DELL G15 15.6\" 120Hz Gaming Laptop - FULL HD, 8GB, Windows 11  ðŸ”¥</h3>\n",
      "<h3 class=\"s-item__title s-item__title--has-tags\">Samsung Chromebook 4 11.6\" (32GB eMMC, Intel Celeron N, 2.60GHz, 4GB) Laptop...</h3>\n",
      "<h3 class=\"s-item__title s-item__title--has-tags\">ASUS ExpertBook B1500 15.6\" Full HD Laptop - Immaculate</h3>\n",
      "<h3 class=\"s-item__title s-item__title--has-tags\"><span class=\"LIGHT_HIGHLIGHT\">New listing</span>ASUS ROG Zephyrus G14 GA402RJ 14\" WUXGA 144Hz Gaming Laptop (AMD Ryzen...</h3>\n",
      "<h3 class=\"s-item__title s-item__title--has-tags\">Dell latitude 7310 brand new boxed core i5 256SSD 13 inch screen </h3>\n",
      "<h3 class=\"s-item__title s-item__title--has-tags\">LENOVO IdeaPad Duet 3i 10.3\" 2 in 1 Laptop -IntelÂ® CeleronÂ®, 64 GB eMMC, Grey</h3>\n",
      "<h3 class=\"s-item__title s-item__title--has-tags\">Hp 350 G2 15.6\" Pentium 3805u 1.9GHz 6GB 256GB SSD Win10 FAST CHEAP laptop </h3>\n",
      "<h3 class=\"s-item__title s-item__title--has-tags\">Samsung Galaxy Book Flex2Â 5G Laptop - 13.3in FHD, Core I7,Â 512GB, 8GB RAM</h3>\n",
      "<h3 class=\"s-item__title s-item__title--has-tags\">Microsoft surface laptop go 2. 256gb 8gb ram ( new unopened)</h3>\n",
      "<h3 class=\"s-item__title s-item__title--has-tags\">Lenovo Laptop - X220</h3>\n",
      "<h3 class=\"s-item__title s-item__title--has-tags\">DELL Inspiron 15 3000 15.6\" Laptop - 256 GB Black Please Read My Description ï¿¼</h3>\n",
      "<h3 class=\"s-item__title s-item__title--has-tags\">Fujitsu LifeBook Windows10 Gaming Laptop Intel 2.4GHz HD 500Gb 15.6\" DVD HDMI</h3>\n",
      "<h3 class=\"s-item__title s-item__title--has-tags\">LENOVO IdeaPad 3i 14\" Chromebook - Intel Celeron, Abyss Blue -</h3>\n",
      "<h3 class=\"s-item__title s-item__title--has-tags\">Samsung Galaxy Book2 Pro 5G 15.6\" Coreâ„¢ i5 8GB 256 GB. Wi-Fi + 5G EX DISPLAY</h3>\n",
      "<h3 class=\"s-item__title s-item__title--has-tags\">HP ENVY x360 13-ay0009na 13.3\" Convertible Laptop AMD Ryzen 7 16GB RAM</h3>\n",
      "<h3 class=\"s-item__title s-item__title--has-tags\">Acer Swift 1 SF114-34-P1R9 Notebook 35.6 cm (14\") 1920 x 1080 pixels IntelÂ® Pent</h3>\n",
      "<h3 class=\"s-item__title s-item__title--has-tags\"><span class=\"LIGHT_HIGHLIGHT\">New listing</span>Lenovo IdeaPad 5 Laptop Ryzen 5-4500U</h3>\n",
      "<h3 class=\"s-item__title s-item__title--has-tags\">OMEN by HP 17-ck0000na Gaming Laptop with NVIDIAÂ® GeForce RTXâ„¢ 3080</h3>\n",
      "<h3 class=\"s-item__title s-item__title--has-tags\">Google Pixelbook Go 13.3 inch 128GB i5 8th Gen1.30GHz 8GBÂ ga00521-uk</h3>\n",
      "<h3 class=\"s-item__title s-item__title--has-tags\">ACER Swift 5 SF514-55T 14\" Laptop Intel Core i7 512 GB SSD Mist Green NEW/SEALED</h3>\n",
      "<h3 class=\"s-item__title s-item__title--has-tags\">HP Spectre x360 13.3\" Touchscreen Laptop Intel Core i5-1035G4 8GB RAM, 256GB SSD</h3>\n",
      "<h3 class=\"s-item__title s-item__title--has-tags\">Lenovo IdeaPad 3i Intel Pentium Gold 7505U 4GB 128GB SSD 15.6\" Windows 10 Laptop</h3>\n",
      "<h3 class=\"s-item__title s-item__title--has-tags\">Dell XPS 13 - 9310 - i7 5.0GHz 11th Gen - 16GB RAM - 1TB SSD - 13.4\" FHD+ </h3>\n",
      "<h3 class=\"s-item__title s-item__title--has-tags\">HP Spectre x360 16\" 2-in-1 Touchscreen Laptop Core i7 11th Gen. 32GB RAM 1TB SSD</h3>\n",
      "<h3 class=\"s-item__title s-item__title--has-tags\">iOTA Flo 360 11.6-inch Touchscreen Laptop (Intel Celeron Dual Core, 4GB RAM)</h3>\n",
      "<h3 class=\"s-item__title s-item__title--has-tags\">Dell Precision 3560 Laptop 15.6\" Full HD, i7-1165G7, 16GB RAM,512GB SSD, NVIDIA</h3>\n",
      "<h3 class=\"s-item__title s-item__title--has-tags\">HP Chromebook 11 G5 EE Intel Celeron N3060 4GB RAM 16GB eMMC Student Laptop HDMI</h3>\n",
      "<h3 class=\"s-item__title s-item__title--has-tags\">HP Chromebook 14a-na0007naÂ 14\"Â Chrome OSâ„¢Â IntelÂ® CeleronÂ®Â 4GB RAMÂ 64GB eMMCÂ FHD</h3>\n",
      "<h3 class=\"s-item__title s-item__title--has-tags\">Lenovo 300e 2nd Gen Notebook 81M9 - Intel N4120 1.1GHz, 4GB RAM, 64GB eMMC</h3>\n",
      "<h3 class=\"s-item__title s-item__title--has-tags\">Huawei MateBook D 14 FHD Laptop  Intel Core i5 8GB 512GB SSD MX250 Windows 11 </h3>\n",
      "<h3 class=\"s-item__title s-item__title--has-tags\">HP Laptop 17-cp0021na 17.3\" AMD Ryzenâ„¢ 5, 16GB RAM, 512GB SSD, FHD, Blue</h3>\n",
      "<h3 class=\"s-item__title s-item__title--has-tags\">Lenovo IdeaPad Duet 3 10.3\" 2 in 1 Laptop Intel Celeron 4GB RAM 64GB eMMC</h3>\n",
      "<h3 class=\"s-item__title s-item__title--has-tags\">Lenovo IdeaPad Gaming 3 15 - Shadow Black Laptop, 15.6'', Windows 11 Home 64</h3>\n",
      "<h3 class=\"s-item__title s-item__title--has-tags\">Panasonic Toughbook CF-19 Intel Core i5, Diagnostics Windows 10 Rugged Laptop 3G</h3>\n",
      "<h3 class=\"s-item__title s-item__title--has-tags\">HP EliteBook 840 G7 Laptop 14\" Touchscreen, Intel i5-10310U, 16GB RAM, 512GB SSD</h3>\n",
      "<h3 class=\"s-item__title s-item__title--has-tags\">MSI Delta 15 A5EFK-047UK 15.6\" FHD Gaming Laptop AMD R9-5900H 16GB RAM 1TB SSD</h3>\n",
      "<h3 class=\"s-item__title s-item__title--has-tags\">LENOVO IdeaPad 3i 14\" Laptop - IntelÂ® Coreâ„¢ i5, 256 GB SSD,Refurbished B</h3>\n",
      "<h3 class=\"s-item__title s-item__title--has-tags\">ASUS VivoBook X705MA 17.3\" Laptop - IntelÂ® Pentiumâ„¢ 8GB RAM, 1 TB HDD Win 11 HD+</h3>\n",
      "<h3 class=\"s-item__title s-item__title--has-tags\">ASUS Chromebook C223NA-GJ0014 Intel Celeron N3350 4Gb 32Gb eMMC 11.6\" HD Chrome</h3>\n",
      "<h3 class=\"s-item__title s-item__title--has-tags\">Lenovo Legion 5 Core i7-11800H 16GB 512GB SSD GeForce RTX 3070 15.6 I 82JH00HDUK</h3>\n",
      "<h3 class=\"s-item__title s-item__title--has-tags\">HP Laptop Touch Screen EliteBook X360 i5 16GB 512GB Windows 10 1 Year Warranty</h3>\n",
      "<h3 class=\"s-item__title s-item__title--has-tags\">Lenovo Thinkpad X260 Core i5-6200U 2.30GHz 8GB 256GB SSD Webcam HDMI Laptop</h3>\n",
      "<h3 class=\"s-item__title s-item__title--has-tags\">Lenovo ThinkPad L390 Yoga Laptop i5-8265U 8GB RAM 256GB SSD 13.3\" FHD Touch IPS</h3>\n",
      "<h3 class=\"s-item__title s-item__title--has-tags\">ASUS M515DA AMD Ryzen 3 3250U Laptop 8GB RAM 256GB SSD 15.6 inch Windows 10 Pro</h3>\n",
      "<h3 class=\"s-item__title s-item__title--has-tags\">SUPER FAST WINDOWS 11 LAPTOP CORE I3 4GB/8GB RAM HDD SSD FREEGIFT WARRANTY</h3>\n",
      "<h3 class=\"s-item__title s-item__title--has-tags\">HP 14a 14\" Chromebook - Intel Celeron, 64 GB eMMC, White REFURBISHED A</h3>\n",
      "<h3 class=\"s-item__title s-item__title--has-tags\">ARKA Book 11.6\" Laptop - Celeron 1.1GHz CPU, 4GB RAM - Grade B</h3>\n"
     ]
    }
   ],
   "source": [
    "for items in content:\n",
    "    title = items.find('h3', {'class' : 's-item__title s-item__title--has-tags'})\n",
    "    print(title)"
   ]
  },
  {
   "cell_type": "code",
   "execution_count": 100,
   "id": "d32a9379-0365-48b2-ac4d-9cf11977f11c",
   "metadata": {},
   "outputs": [
    {
     "ename": "AttributeError",
     "evalue": "ResultSet object has no attribute 'find_all'. You're probably treating a list of elements like a single element. Did you call find_all() when you meant to call find()?",
     "output_type": "error",
     "traceback": [
      "\u001b[1;31m---------------------------------------------------------------------------\u001b[0m",
      "\u001b[1;31mAttributeError\u001b[0m                            Traceback (most recent call last)",
      "\u001b[1;32m~\\AppData\\Local\\Temp/ipykernel_16560/1486931023.py\u001b[0m in \u001b[0;36m<module>\u001b[1;34m\u001b[0m\n\u001b[1;32m----> 1\u001b[1;33m \u001b[0mhotel_name\u001b[0m \u001b[1;33m=\u001b[0m \u001b[1;33m[\u001b[0m\u001b[0mname\u001b[0m \u001b[1;32mfor\u001b[0m \u001b[0mname\u001b[0m \u001b[1;32min\u001b[0m \u001b[0mcontent\u001b[0m\u001b[1;33m.\u001b[0m\u001b[0mfind_all\u001b[0m\u001b[1;33m(\u001b[0m\u001b[1;34m'h3'\u001b[0m\u001b[1;33m,\u001b[0m \u001b[1;33m{\u001b[0m\u001b[1;34m'class'\u001b[0m \u001b[1;33m:\u001b[0m \u001b[1;34m's-item__title s-item__title--has-tags'\u001b[0m\u001b[1;33m}\u001b[0m\u001b[1;33m)\u001b[0m\u001b[1;33m]\u001b[0m\u001b[1;33m\u001b[0m\u001b[1;33m\u001b[0m\u001b[0m\n\u001b[0m",
      "\u001b[1;32m~\\AppData\\Local\\Programs\\Python\\Python310\\lib\\site-packages\\bs4\\element.py\u001b[0m in \u001b[0;36m__getattr__\u001b[1;34m(self, key)\u001b[0m\n\u001b[0;32m   2251\u001b[0m     \u001b[1;32mdef\u001b[0m \u001b[0m__getattr__\u001b[0m\u001b[1;33m(\u001b[0m\u001b[0mself\u001b[0m\u001b[1;33m,\u001b[0m \u001b[0mkey\u001b[0m\u001b[1;33m)\u001b[0m\u001b[1;33m:\u001b[0m\u001b[1;33m\u001b[0m\u001b[1;33m\u001b[0m\u001b[0m\n\u001b[0;32m   2252\u001b[0m         \u001b[1;34m\"\"\"Raise a helpful exception to explain a common code fix.\"\"\"\u001b[0m\u001b[1;33m\u001b[0m\u001b[1;33m\u001b[0m\u001b[0m\n\u001b[1;32m-> 2253\u001b[1;33m         raise AttributeError(\n\u001b[0m\u001b[0;32m   2254\u001b[0m             \u001b[1;34m\"ResultSet object has no attribute '%s'. You're probably treating a list of elements like a single element. Did you call find_all() when you meant to call find()?\"\u001b[0m \u001b[1;33m%\u001b[0m \u001b[0mkey\u001b[0m\u001b[1;33m\u001b[0m\u001b[1;33m\u001b[0m\u001b[0m\n\u001b[0;32m   2255\u001b[0m         )\n",
      "\u001b[1;31mAttributeError\u001b[0m: ResultSet object has no attribute 'find_all'. You're probably treating a list of elements like a single element. Did you call find_all() when you meant to call find()?"
     ]
    }
   ],
   "source": [
    "hotel_name = [name.text for name in content.find_all('h3', {'class' : 's-item__title s-item__title--has-tags'})]"
   ]
  },
  {
   "cell_type": "code",
   "execution_count": null,
   "id": "98042fb8-e6db-48eb-96c5-ed7c33adfe5b",
   "metadata": {},
   "outputs": [],
   "source": []
  }
 ],
 "metadata": {
  "kernelspec": {
   "display_name": "Python 3 (ipykernel)",
   "language": "python",
   "name": "python3"
  },
  "language_info": {
   "codemirror_mode": {
    "name": "ipython",
    "version": 3
   },
   "file_extension": ".py",
   "mimetype": "text/x-python",
   "name": "python",
   "nbconvert_exporter": "python",
   "pygments_lexer": "ipython3",
   "version": "3.10.2"
  }
 },
 "nbformat": 4,
 "nbformat_minor": 5
}

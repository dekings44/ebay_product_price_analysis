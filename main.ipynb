{
 "cells": [
  {
   "cell_type": "code",
   "execution_count": 68,
   "id": "827ad868-67d2-4b9e-85a2-0ba352de7d5d",
   "metadata": {},
   "outputs": [],
   "source": [
    "#Importing the necessary libraries and modules\n",
    "from urllib.request import Request, urlopen\n",
    "import requests\n",
    "from bs4 import BeautifulSoup\n",
    "import re\n",
    "import pandas as pd\n",
    "import numpy as np\n",
    "from time import sleep\n",
    "from random import randint\n",
    "import matplotlib.pyplot as plt\n",
    "import seaborn as sns\n",
    "import plotly.express as px"
   ]
  },
  {
   "cell_type": "code",
   "execution_count": null,
   "id": "c8b938b4-3c07-4648-8e86-29d520e08811",
   "metadata": {},
   "outputs": [],
   "source": []
  },
  {
   "cell_type": "code",
   "execution_count": 69,
   "id": "d60be648-62d5-4d9c-b816-5a5907243d71",
   "metadata": {},
   "outputs": [],
   "source": [
    "header = {'User-Agent':'Mozilla/5.0 (Macintosh; Intel Mac OS X 10_13_6) AppleWebKit/537.36 (KHTML, like Gecko) Chrome/71.0.3578.98 Safari/537.36'}"
   ]
  },
  {
   "cell_type": "code",
   "execution_count": 74,
   "id": "abff864a-7ceb-4cbf-953a-53b02285734d",
   "metadata": {},
   "outputs": [],
   "source": [
    "link = 'https://www.ebay.co.uk/sch/i.html?_from=R40&_nkw=laptops&_sacat=0&LH_ItemCondition=1000%7C1500%7C2000%7C2010%7C2020&LH_Sold=1&rt=nc'"
   ]
  },
  {
   "cell_type": "code",
   "execution_count": 75,
   "id": "bfc94081-bac6-4566-af17-c3620624976a",
   "metadata": {},
   "outputs": [],
   "source": [
    "req = Request(link, headers = header)"
   ]
  },
  {
   "cell_type": "code",
   "execution_count": 57,
   "id": "97ecce70-66bd-4968-9cd1-05e2b665d284",
   "metadata": {
    "tags": []
   },
   "outputs": [
    {
     "name": "stdout",
     "output_type": "stream",
     "text": [
      "6\n"
     ]
    }
   ],
   "source": [
    "# webpage = urlopen(req).read()\n",
    "\n",
    "# with requests.Session() as c:\n",
    "#     soup = BeautifulSoup(webpage, 'html5lib')\n",
    "#     print(len(soup))"
   ]
  },
  {
   "cell_type": "code",
   "execution_count": 76,
   "id": "7e913078-2f9f-4d21-a6ac-97292d522202",
   "metadata": {},
   "outputs": [],
   "source": [
    "webpage = urlopen(req).read()"
   ]
  },
  {
   "cell_type": "code",
   "execution_count": 109,
   "id": "b76ea122-763a-4726-add8-2438706f238e",
   "metadata": {},
   "outputs": [],
   "source": [
    "soup1 = BeautifulSoup(webpage, 'html5lib')"
   ]
  },
  {
   "cell_type": "code",
   "execution_count": 133,
   "id": "1333c534-aa8e-4161-b088-d9389048e467",
   "metadata": {},
   "outputs": [],
   "source": [
    "content = soup1.find_all('div', {'class' : 's-item__info clearfix'})"
   ]
  },
  {
   "cell_type": "code",
   "execution_count": 135,
   "id": "132d25d8-3dff-4626-94b7-cf028619f2c1",
   "metadata": {},
   "outputs": [],
   "source": [
    "title = soup1.find_all('h3', {'class' : 's-item__title s-item__title--has-tags'})"
   ]
  },
  {
   "cell_type": "code",
   "execution_count": 143,
   "id": "becb20ea-c36f-46ee-8922-826b06004130",
   "metadata": {},
   "outputs": [],
   "source": [
    "# title_disc = []\n",
    "# for tit in content:\n",
    "#    title_disc.append(tit.text)\n",
    "# print(title_disc)\n",
    "\n",
    "\n",
    "# for items in content:\n",
    "#     title = items.find('h3', {'class' : 's-item__title s-item__title--has-tags'})\n",
    "    \n",
    "#     print(type(title))"
   ]
  },
  {
   "cell_type": "code",
   "execution_count": 136,
   "id": "db705612-c1eb-4f94-990f-bd06294d32c3",
   "metadata": {},
   "outputs": [
    {
     "data": {
      "text/plain": [
       "[<h3 class=\"s-item__title s-item__title--has-tags\"><span class=\"LIGHT_HIGHLIGHT\">New listing</span>Acer Nitro 5 AN515-57 15.6\" 144Hz (512GB SSD, Intel Core i7-11800H, 2.4GHz, 16GB</h3>,\n",
       " <h3 class=\"s-item__title s-item__title--has-tags\">Lenovo Ideapad duet 3i 1y Office tablet 10.3â€� FHD 1920x1200 Intel N4020 4GB 64GB</h3>,\n",
       " <h3 class=\"s-item__title s-item__title--has-tags\">AMD K6 MMX Processor Sticker Badge for desktop or Laptop PC</h3>,\n",
       " <h3 class=\"s-item__title s-item__title--has-tags\">HP Stream 11 ak0514sa 11.6\" 64GB eMMC, Intel Celeron N4020 1.1GHz 4GB RAM </h3>,\n",
       " <h3 class=\"s-item__title s-item__title--has-tags\">HP Dragonfly G2 2-in-1 Touch-Laptop 13.3\" #4K9W5EA - New - 3 Yr Warr Upg. Win11</h3>,\n",
       " <h3 class=\"s-item__title s-item__title--has-tags\">HP EliteBook 830 G8 13.3\" Intel Core i5-1135G7 up to 4.2 GHz 8GB RAM 256GB SSD</h3>,\n",
       " <h3 class=\"s-item__title s-item__title--has-tags\">ASUS chromebook C204MA-GJ0080-3Y 11\"</h3>,\n",
       " <h3 class=\"s-item__title s-item__title--has-tags\">HP ProBook 455 G7 15.6\" Laptop - AMD Ryzen 5, 256 GB SSD, 8gb RAM Silver</h3>,\n",
       " <h3 class=\"s-item__title s-item__title--has-tags\">BRAND NEW Lenovo ThinkPad P50 Laptop i7-6820HQ 32GB 256GB 15.6\"Â  Gaming RRP Â£1K+</h3>,\n",
       " <h3 class=\"s-item__title s-item__title--has-tags\">HP Pavilion Intel Core i3 10th Gen 8GB 256GB 14\" Laptop 14-ce3602sa Win10 Purple</h3>,\n",
       " <h3 class=\"s-item__title s-item__title--has-tags\">Dell XPS 13 9305 13.3\" (512GB, Intel Core i7-1165G7 4.70 GHz , 8GB)...</h3>,\n",
       " <h3 class=\"s-item__title s-item__title--has-tags\">DELL XPS 15 9510 4.6 i7 11800H 32GB 1TB, RTX 3050 Ti, 15.6 OLED 3456x2160 Win 11</h3>,\n",
       " <h3 class=\"s-item__title s-item__title--has-tags\">Lenovo ThinkPad T14s Gen 2 - Intel Core i7-1185G7, 16GB RAM, 512GB SSD, 14\".</h3>,\n",
       " <h3 class=\"s-item__title s-item__title--has-tags\">âœ…ï¸�DELL G15 15.6\" 120Hz Gaming Laptop - FULL HD, 8GB, Windows 11  ðŸ”¥</h3>,\n",
       " <h3 class=\"s-item__title s-item__title--has-tags\">Samsung Chromebook 4 11.6\" (32GB eMMC, Intel Celeron N, 2.60GHz, 4GB) Laptop...</h3>,\n",
       " <h3 class=\"s-item__title s-item__title--has-tags\">ASUS ExpertBook B1500 15.6\" Full HD Laptop - Immaculate</h3>,\n",
       " <h3 class=\"s-item__title s-item__title--has-tags\"><span class=\"LIGHT_HIGHLIGHT\">New listing</span>ASUS ROG Zephyrus G14 GA402RJ 14\" WUXGA 144Hz Gaming Laptop (AMD Ryzen...</h3>,\n",
       " <h3 class=\"s-item__title s-item__title--has-tags\">Dell latitude 7310 brand new boxed core i5 256SSD 13 inch screen </h3>,\n",
       " <h3 class=\"s-item__title s-item__title--has-tags\">LENOVO IdeaPad Duet 3i 10.3\" 2 in 1 Laptop -IntelÂ® CeleronÂ®, 64 GB eMMC, Grey</h3>,\n",
       " <h3 class=\"s-item__title s-item__title--has-tags\">Hp 350 G2 15.6\" Pentium 3805u 1.9GHz 6GB 256GB SSD Win10 FAST CHEAP laptop </h3>,\n",
       " <h3 class=\"s-item__title s-item__title--has-tags\">Samsung Galaxy Book Flex2Â 5G Laptop - 13.3in FHD, Core I7,Â 512GB, 8GB RAM</h3>,\n",
       " <h3 class=\"s-item__title s-item__title--has-tags\">Microsoft surface laptop go 2. 256gb 8gb ram ( new unopened)</h3>,\n",
       " <h3 class=\"s-item__title s-item__title--has-tags\">Lenovo Laptop - X220</h3>,\n",
       " <h3 class=\"s-item__title s-item__title--has-tags\">DELL Inspiron 15 3000 15.6\" Laptop - 256 GB Black Please Read My Description ï¿¼</h3>,\n",
       " <h3 class=\"s-item__title s-item__title--has-tags\">Fujitsu LifeBook Windows10 Gaming Laptop Intel 2.4GHz HD 500Gb 15.6\" DVD HDMI</h3>,\n",
       " <h3 class=\"s-item__title s-item__title--has-tags\">LENOVO IdeaPad 3i 14\" Chromebook - Intel Celeron, Abyss Blue -</h3>,\n",
       " <h3 class=\"s-item__title s-item__title--has-tags\">Samsung Galaxy Book2 Pro 5G 15.6\" Coreâ„¢ i5 8GB 256 GB. Wi-Fi + 5G EX DISPLAY</h3>,\n",
       " <h3 class=\"s-item__title s-item__title--has-tags\">HP ENVY x360 13-ay0009na 13.3\" Convertible Laptop AMD Ryzen 7 16GB RAM</h3>,\n",
       " <h3 class=\"s-item__title s-item__title--has-tags\">Acer Swift 1 SF114-34-P1R9 Notebook 35.6 cm (14\") 1920 x 1080 pixels IntelÂ® Pent</h3>,\n",
       " <h3 class=\"s-item__title s-item__title--has-tags\"><span class=\"LIGHT_HIGHLIGHT\">New listing</span>Lenovo IdeaPad 5 Laptop Ryzen 5-4500U</h3>,\n",
       " <h3 class=\"s-item__title s-item__title--has-tags\">OMEN by HP 17-ck0000na Gaming Laptop with NVIDIAÂ® GeForce RTXâ„¢ 3080</h3>,\n",
       " <h3 class=\"s-item__title s-item__title--has-tags\">Google Pixelbook Go 13.3 inch 128GB i5 8th Gen1.30GHz 8GBÂ ga00521-uk</h3>,\n",
       " <h3 class=\"s-item__title s-item__title--has-tags\">ACER Swift 5 SF514-55T 14\" Laptop Intel Core i7 512 GB SSD Mist Green NEW/SEALED</h3>,\n",
       " <h3 class=\"s-item__title s-item__title--has-tags\">HP Spectre x360 13.3\" Touchscreen Laptop Intel Core i5-1035G4 8GB RAM, 256GB SSD</h3>,\n",
       " <h3 class=\"s-item__title s-item__title--has-tags\">Lenovo IdeaPad 3i Intel Pentium Gold 7505U 4GB 128GB SSD 15.6\" Windows 10 Laptop</h3>,\n",
       " <h3 class=\"s-item__title s-item__title--has-tags\">Dell XPS 13 - 9310 - i7 5.0GHz 11th Gen - 16GB RAM - 1TB SSD - 13.4\" FHD+ </h3>,\n",
       " <h3 class=\"s-item__title s-item__title--has-tags\">HP Spectre x360 16\" 2-in-1 Touchscreen Laptop Core i7 11th Gen. 32GB RAM 1TB SSD</h3>,\n",
       " <h3 class=\"s-item__title s-item__title--has-tags\">iOTA Flo 360 11.6-inch Touchscreen Laptop (Intel Celeron Dual Core, 4GB RAM)</h3>,\n",
       " <h3 class=\"s-item__title s-item__title--has-tags\">Dell Precision 3560 Laptop 15.6\" Full HD, i7-1165G7, 16GB RAM,512GB SSD, NVIDIA</h3>,\n",
       " <h3 class=\"s-item__title s-item__title--has-tags\">HP Chromebook 11 G5 EE Intel Celeron N3060 4GB RAM 16GB eMMC Student Laptop HDMI</h3>,\n",
       " <h3 class=\"s-item__title s-item__title--has-tags\">HP Chromebook 14a-na0007naÂ 14\"Â Chrome OSâ„¢Â IntelÂ® CeleronÂ®Â 4GB RAMÂ 64GB eMMCÂ FHD</h3>,\n",
       " <h3 class=\"s-item__title s-item__title--has-tags\">Lenovo 300e 2nd Gen Notebook 81M9 - Intel N4120 1.1GHz, 4GB RAM, 64GB eMMC</h3>,\n",
       " <h3 class=\"s-item__title s-item__title--has-tags\">Huawei MateBook D 14 FHD Laptop  Intel Core i5 8GB 512GB SSD MX250 Windows 11 </h3>,\n",
       " <h3 class=\"s-item__title s-item__title--has-tags\">HP Laptop 17-cp0021na 17.3\" AMD Ryzenâ„¢ 5, 16GB RAM, 512GB SSD, FHD, Blue</h3>,\n",
       " <h3 class=\"s-item__title s-item__title--has-tags\">Lenovo IdeaPad Duet 3 10.3\" 2 in 1 Laptop Intel Celeron 4GB RAM 64GB eMMC</h3>,\n",
       " <h3 class=\"s-item__title s-item__title--has-tags\">Lenovo IdeaPad Gaming 3 15 - Shadow Black Laptop, 15.6'', Windows 11 Home 64</h3>,\n",
       " <h3 class=\"s-item__title s-item__title--has-tags\">Panasonic Toughbook CF-19 Intel Core i5, Diagnostics Windows 10 Rugged Laptop 3G</h3>,\n",
       " <h3 class=\"s-item__title s-item__title--has-tags\">HP EliteBook 840 G7 Laptop 14\" Touchscreen, Intel i5-10310U, 16GB RAM, 512GB SSD</h3>,\n",
       " <h3 class=\"s-item__title s-item__title--has-tags\">MSI Delta 15 A5EFK-047UK 15.6\" FHD Gaming Laptop AMD R9-5900H 16GB RAM 1TB SSD</h3>,\n",
       " <h3 class=\"s-item__title s-item__title--has-tags\">LENOVO IdeaPad 3i 14\" Laptop - IntelÂ® Coreâ„¢ i5, 256 GB SSD,Refurbished B</h3>,\n",
       " <h3 class=\"s-item__title s-item__title--has-tags\">ASUS VivoBook X705MA 17.3\" Laptop - IntelÂ® Pentiumâ„¢ 8GB RAM, 1 TB HDD Win 11 HD+</h3>,\n",
       " <h3 class=\"s-item__title s-item__title--has-tags\">ASUS Chromebook C223NA-GJ0014 Intel Celeron N3350 4Gb 32Gb eMMC 11.6\" HD Chrome</h3>,\n",
       " <h3 class=\"s-item__title s-item__title--has-tags\">Lenovo Legion 5 Core i7-11800H 16GB 512GB SSD GeForce RTX 3070 15.6 I 82JH00HDUK</h3>,\n",
       " <h3 class=\"s-item__title s-item__title--has-tags\">HP Laptop Touch Screen EliteBook X360 i5 16GB 512GB Windows 10 1 Year Warranty</h3>,\n",
       " <h3 class=\"s-item__title s-item__title--has-tags\">Lenovo Thinkpad X260 Core i5-6200U 2.30GHz 8GB 256GB SSD Webcam HDMI Laptop</h3>,\n",
       " <h3 class=\"s-item__title s-item__title--has-tags\">Lenovo ThinkPad L390 Yoga Laptop i5-8265U 8GB RAM 256GB SSD 13.3\" FHD Touch IPS</h3>,\n",
       " <h3 class=\"s-item__title s-item__title--has-tags\">ASUS M515DA AMD Ryzen 3 3250U Laptop 8GB RAM 256GB SSD 15.6 inch Windows 10 Pro</h3>,\n",
       " <h3 class=\"s-item__title s-item__title--has-tags\">SUPER FAST WINDOWS 11 LAPTOP CORE I3 4GB/8GB RAM HDD SSD FREEGIFT WARRANTY</h3>,\n",
       " <h3 class=\"s-item__title s-item__title--has-tags\">HP 14a 14\" Chromebook - Intel Celeron, 64 GB eMMC, White REFURBISHED A</h3>,\n",
       " <h3 class=\"s-item__title s-item__title--has-tags\">ARKA Book 11.6\" Laptop - Celeron 1.1GHz CPU, 4GB RAM - Grade B</h3>]"
      ]
     },
     "execution_count": 136,
     "metadata": {},
     "output_type": "execute_result"
    }
   ],
   "source": [
    "title"
   ]
  },
  {
   "cell_type": "code",
   "execution_count": 141,
   "id": "d32a9379-0365-48b2-ac4d-9cf11977f11c",
   "metadata": {},
   "outputs": [],
   "source": [
    "hotel_name = [name.text for name in title]"
   ]
  },
  {
   "cell_type": "code",
   "execution_count": 142,
   "id": "98042fb8-e6db-48eb-96c5-ed7c33adfe5b",
   "metadata": {},
   "outputs": [
    {
     "data": {
      "text/plain": [
       "['New listingAcer Nitro 5 AN515-57 15.6\" 144Hz (512GB SSD, Intel Core i7-11800H, 2.4GHz, 16GB',\n",
       " 'Lenovo Ideapad duet 3i 1y Office tablet 10.3â€� FHD 1920x1200 Intel N4020 4GB 64GB',\n",
       " 'AMD K6 MMX Processor Sticker Badge for desktop or Laptop PC',\n",
       " 'HP Stream 11 ak0514sa 11.6\" 64GB eMMC, Intel Celeron N4020 1.1GHz 4GB RAM ',\n",
       " 'HP Dragonfly G2 2-in-1 Touch-Laptop 13.3\" #4K9W5EA - New - 3 Yr Warr Upg. Win11',\n",
       " 'HP EliteBook 830 G8 13.3\" Intel Core i5-1135G7 up to 4.2 GHz 8GB RAM 256GB SSD',\n",
       " 'ASUS chromebook C204MA-GJ0080-3Y 11\"',\n",
       " 'HP ProBook 455 G7 15.6\" Laptop - AMD Ryzen 5, 256 GB SSD, 8gb RAM Silver',\n",
       " 'BRAND NEW Lenovo ThinkPad P50 Laptop i7-6820HQ 32GB 256GB 15.6\"Â\\xa0 Gaming RRP Â£1K+',\n",
       " 'HP Pavilion Intel Core i3 10th Gen 8GB 256GB 14\" Laptop 14-ce3602sa Win10 Purple',\n",
       " 'Dell XPS 13 9305 13.3\" (512GB, Intel Core i7-1165G7 4.70 GHz , 8GB)...',\n",
       " 'DELL XPS 15 9510 4.6 i7 11800H 32GB 1TB, RTX 3050 Ti, 15.6 OLED 3456x2160 Win 11',\n",
       " 'Lenovo ThinkPad T14s Gen 2 - Intel Core i7-1185G7, 16GB RAM, 512GB SSD, 14\".',\n",
       " 'âœ…ï¸�DELL G15 15.6\" 120Hz Gaming Laptop - FULL HD, 8GB, Windows 11  ðŸ”¥',\n",
       " 'Samsung Chromebook 4 11.6\" (32GB eMMC, Intel Celeron N, 2.60GHz, 4GB) Laptop...',\n",
       " 'ASUS ExpertBook B1500 15.6\" Full HD Laptop - Immaculate',\n",
       " 'New listingASUS ROG Zephyrus G14 GA402RJ 14\" WUXGA 144Hz Gaming Laptop (AMD Ryzen...',\n",
       " 'Dell latitude 7310 brand new boxed core i5 256SSD 13 inch screen ',\n",
       " 'LENOVO IdeaPad Duet 3i 10.3\" 2 in 1 Laptop -IntelÂ® CeleronÂ®, 64 GB eMMC, Grey',\n",
       " 'Hp 350 G2 15.6\" Pentium 3805u 1.9GHz 6GB 256GB SSD Win10 FAST CHEAP laptop ',\n",
       " 'Samsung Galaxy Book Flex2Â\\xa05G Laptop - 13.3in FHD, Core I7,Â\\xa0512GB, 8GB RAM',\n",
       " 'Microsoft surface laptop go 2. 256gb 8gb ram ( new unopened)',\n",
       " 'Lenovo Laptop - X220',\n",
       " 'DELL Inspiron 15 3000 15.6\" Laptop - 256 GB Black Please Read My Description ï¿¼',\n",
       " 'Fujitsu LifeBook Windows10 Gaming Laptop Intel 2.4GHz HD 500Gb 15.6\" DVD HDMI',\n",
       " 'LENOVO IdeaPad 3i 14\" Chromebook - Intel Celeron, Abyss Blue -',\n",
       " 'Samsung Galaxy Book2 Pro 5G 15.6\" Coreâ„¢ i5 8GB 256 GB. Wi-Fi + 5G EX DISPLAY',\n",
       " 'HP ENVY x360 13-ay0009na 13.3\" Convertible Laptop AMD Ryzen 7 16GB RAM',\n",
       " 'Acer Swift 1 SF114-34-P1R9 Notebook 35.6 cm (14\") 1920 x 1080 pixels IntelÂ® Pent',\n",
       " 'New listingLenovo IdeaPad 5 Laptop Ryzen 5-4500U',\n",
       " 'OMEN by HP 17-ck0000na Gaming Laptop with NVIDIAÂ® GeForce RTXâ„¢ 3080',\n",
       " 'Google Pixelbook Go 13.3 inch 128GB i5 8th Gen1.30GHz 8GBÂ\\xa0ga00521-uk',\n",
       " 'ACER Swift 5 SF514-55T 14\" Laptop Intel Core i7 512 GB SSD Mist Green NEW/SEALED',\n",
       " 'HP Spectre x360 13.3\" Touchscreen Laptop Intel Core i5-1035G4 8GB RAM, 256GB SSD',\n",
       " 'Lenovo IdeaPad 3i Intel Pentium Gold 7505U 4GB 128GB SSD 15.6\" Windows 10 Laptop',\n",
       " 'Dell XPS 13 - 9310 - i7 5.0GHz 11th Gen - 16GB RAM - 1TB SSD - 13.4\" FHD+ ',\n",
       " 'HP Spectre x360 16\" 2-in-1 Touchscreen Laptop Core i7 11th Gen. 32GB RAM 1TB SSD',\n",
       " 'iOTA Flo 360 11.6-inch Touchscreen Laptop (Intel Celeron Dual Core, 4GB RAM)',\n",
       " 'Dell Precision 3560 Laptop 15.6\" Full HD, i7-1165G7, 16GB RAM,512GB SSD, NVIDIA',\n",
       " 'HP Chromebook 11 G5 EE Intel Celeron N3060 4GB RAM 16GB eMMC Student Laptop HDMI',\n",
       " 'HP Chromebook 14a-na0007naÂ\\xa014\"Â\\xa0Chrome OSâ„¢Â\\xa0IntelÂ® CeleronÂ®Â\\xa04GB RAMÂ\\xa064GB eMMCÂ\\xa0FHD',\n",
       " 'Lenovo 300e 2nd Gen Notebook 81M9 - Intel N4120 1.1GHz, 4GB RAM, 64GB eMMC',\n",
       " 'Huawei MateBook D 14 FHD Laptop  Intel Core i5 8GB 512GB SSD MX250 Windows 11 ',\n",
       " 'HP Laptop 17-cp0021na 17.3\" AMD Ryzenâ„¢ 5, 16GB RAM, 512GB SSD, FHD, Blue',\n",
       " 'Lenovo IdeaPad Duet 3 10.3\" 2 in 1 Laptop Intel Celeron 4GB RAM 64GB eMMC',\n",
       " \"Lenovo IdeaPad Gaming 3 15 - Shadow Black Laptop, 15.6'', Windows 11 Home 64\",\n",
       " 'Panasonic Toughbook CF-19 Intel Core i5, Diagnostics Windows 10 Rugged Laptop 3G',\n",
       " 'HP EliteBook 840 G7 Laptop 14\" Touchscreen, Intel i5-10310U, 16GB RAM, 512GB SSD',\n",
       " 'MSI Delta 15 A5EFK-047UK 15.6\" FHD Gaming Laptop AMD R9-5900H 16GB RAM 1TB SSD',\n",
       " 'LENOVO IdeaPad 3i 14\" Laptop - IntelÂ® Coreâ„¢ i5, 256 GB SSD,Refurbished B',\n",
       " 'ASUS VivoBook X705MA 17.3\" Laptop - IntelÂ® Pentiumâ„¢ 8GB RAM, 1 TB HDD Win 11 HD+',\n",
       " 'ASUS Chromebook C223NA-GJ0014 Intel Celeron N3350 4Gb 32Gb eMMC 11.6\" HD Chrome',\n",
       " 'Lenovo Legion 5 Core i7-11800H 16GB 512GB SSD GeForce RTX 3070 15.6 I 82JH00HDUK',\n",
       " 'HP Laptop Touch Screen EliteBook X360 i5 16GB 512GB Windows 10 1 Year Warranty',\n",
       " 'Lenovo Thinkpad X260 Core i5-6200U 2.30GHz 8GB 256GB SSD Webcam HDMI Laptop',\n",
       " 'Lenovo ThinkPad L390 Yoga Laptop i5-8265U 8GB RAM 256GB SSD 13.3\" FHD Touch IPS',\n",
       " 'ASUS M515DA AMD Ryzen 3 3250U Laptop 8GB RAM 256GB SSD 15.6 inch Windows 10 Pro',\n",
       " 'SUPER FAST WINDOWS 11 LAPTOP CORE I3 4GB/8GB RAM HDD SSD FREEGIFT WARRANTY',\n",
       " 'HP 14a 14\" Chromebook - Intel Celeron, 64 GB eMMC, White REFURBISHED A',\n",
       " 'ARKA Book 11.6\" Laptop - Celeron 1.1GHz CPU, 4GB RAM - Grade B']"
      ]
     },
     "execution_count": 142,
     "metadata": {},
     "output_type": "execute_result"
    }
   ],
   "source": [
    "hotel_name"
   ]
  },
  {
   "cell_type": "code",
   "execution_count": null,
   "id": "295501c1-ee27-486b-b79c-704476dc854d",
   "metadata": {},
   "outputs": [],
   "source": []
  }
 ],
 "metadata": {
  "kernelspec": {
   "display_name": "Python 3 (ipykernel)",
   "language": "python",
   "name": "python3"
  },
  "language_info": {
   "codemirror_mode": {
    "name": "ipython",
    "version": 3
   },
   "file_extension": ".py",
   "mimetype": "text/x-python",
   "name": "python",
   "nbconvert_exporter": "python",
   "pygments_lexer": "ipython3",
   "version": "3.10.2"
  }
 },
 "nbformat": 4,
 "nbformat_minor": 5
}

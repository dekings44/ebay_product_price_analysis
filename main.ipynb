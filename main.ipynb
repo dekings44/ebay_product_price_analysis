{
 "cells": [
  {
   "cell_type": "code",
   "execution_count": 68,
   "id": "827ad868-67d2-4b9e-85a2-0ba352de7d5d",
   "metadata": {},
   "outputs": [],
   "source": [
    "#Importing the necessary libraries and modules\n",
    "from urllib.request import Request, urlopen\n",
    "import requests\n",
    "from bs4 import BeautifulSoup\n",
    "import re\n",
    "import pandas as pd\n",
    "import numpy as np\n",
    "from time import sleep\n",
    "from random import randint\n",
    "import matplotlib.pyplot as plt\n",
    "import seaborn as sns\n",
    "import plotly.express as px"
   ]
  },
  {
   "cell_type": "code",
   "execution_count": 69,
   "id": "d60be648-62d5-4d9c-b816-5a5907243d71",
   "metadata": {},
   "outputs": [],
   "source": [
    "header = {'User-Agent':'Mozilla/5.0 (Macintosh; Intel Mac OS X 10_13_6) AppleWebKit/537.36 (KHTML, like Gecko) Chrome/71.0.3578.98 Safari/537.36'}"
   ]
  },
  {
   "cell_type": "code",
   "execution_count": 72,
   "id": "ea64dc2f-9d43-45d2-8993-7a6d7cca364d",
   "metadata": {
    "tags": []
   },
   "outputs": [],
   "source": [
    "page = requests.get(\"https://www.ebay.co.uk/sch/i.html?_from=R40&_nkw=laptops&_sacat=0&LH_ItemCondition=1000%7C1500%7C2000%7C2010%7C2020&LH_Sold=1&rt=nc\", headers = header)"
   ]
  },
  {
   "cell_type": "code",
   "execution_count": 74,
   "id": "abff864a-7ceb-4cbf-953a-53b02285734d",
   "metadata": {},
   "outputs": [],
   "source": [
    "link = 'https://www.ebay.co.uk/sch/i.html?_from=R40&_nkw=laptops&_sacat=0&LH_ItemCondition=1000%7C1500%7C2000%7C2010%7C2020&LH_Sold=1&rt=nc'"
   ]
  },
  {
   "cell_type": "code",
   "execution_count": 75,
   "id": "bfc94081-bac6-4566-af17-c3620624976a",
   "metadata": {},
   "outputs": [],
   "source": [
    "req = Request(link, headers = header)"
   ]
  },
  {
   "cell_type": "code",
   "execution_count": 57,
   "id": "97ecce70-66bd-4968-9cd1-05e2b665d284",
   "metadata": {
    "tags": []
   },
   "outputs": [
    {
     "name": "stdout",
     "output_type": "stream",
     "text": [
      "6\n"
     ]
    }
   ],
   "source": [
    "# webpage = urlopen(req).read()\n",
    "\n",
    "# with requests.Session() as c:\n",
    "#     soup = BeautifulSoup(webpage, 'html5lib')\n",
    "#     print(len(soup))"
   ]
  },
  {
   "cell_type": "code",
   "execution_count": 76,
   "id": "7e913078-2f9f-4d21-a6ac-97292d522202",
   "metadata": {},
   "outputs": [],
   "source": [
    "webpage = urlopen(req).read()"
   ]
  },
  {
   "cell_type": "code",
   "execution_count": 77,
   "id": "b76ea122-763a-4726-add8-2438706f238e",
   "metadata": {},
   "outputs": [],
   "source": [
    "soup1 = BeautifulSoup(webpage, 'html5lib')"
   ]
  },
  {
   "cell_type": "code",
   "execution_count": 79,
   "id": "b85759da-019b-4bac-944d-81d3d18a10f4",
   "metadata": {},
   "outputs": [
    {
     "name": "stdout",
     "output_type": "stream",
     "text": [
      "6\n"
     ]
    }
   ],
   "source": [
    "print(len(soup1))"
   ]
  },
  {
   "cell_type": "code",
   "execution_count": 59,
   "id": "988503b7-4bc9-473d-b2bf-7d713f16bf2c",
   "metadata": {},
   "outputs": [],
   "source": [
    "soup = BeautifulSoup(page.content, 'html5lib')"
   ]
  },
  {
   "cell_type": "code",
   "execution_count": 60,
   "id": "a5f60c0d-48a5-4a4c-a02f-0f2afbdbbd6a",
   "metadata": {},
   "outputs": [
    {
     "name": "stdout",
     "output_type": "stream",
     "text": [
      "<html><head>\n",
      "<title>Service Unavailable</title>\n",
      "</head><body>\n",
      "<h1>Service Unavailable - Zero size object</h1>\n",
      "The server is temporarily unable to service your request.  Please try again\n",
      "later.<p>\n",
      "Reference #15.5e57dd58.1658527796.cb4e9dd\n",
      "\n",
      "</p></body></html>\n"
     ]
    }
   ],
   "source": [
    "print(soup)"
   ]
  },
  {
   "cell_type": "code",
   "execution_count": 80,
   "id": "1333c534-aa8e-4161-b088-d9389048e467",
   "metadata": {},
   "outputs": [
    {
     "ename": "TypeError",
     "evalue": "'NoneType' object is not iterable",
     "output_type": "error",
     "traceback": [
      "\u001b[1;31m---------------------------------------------------------------------------\u001b[0m",
      "\u001b[1;31mTypeError\u001b[0m                                 Traceback (most recent call last)",
      "\u001b[1;32m~\\AppData\\Local\\Temp/ipykernel_16560/1030966648.py\u001b[0m in \u001b[0;36m<module>\u001b[1;34m\u001b[0m\n\u001b[1;32m----> 1\u001b[1;33m \u001b[0mlaptop_spec\u001b[0m \u001b[1;33m=\u001b[0m \u001b[1;33m[\u001b[0m\u001b[0mname\u001b[0m\u001b[1;33m.\u001b[0m\u001b[0mtext\u001b[0m \u001b[1;32mfor\u001b[0m \u001b[0mname\u001b[0m \u001b[1;32min\u001b[0m \u001b[0msoup1\u001b[0m\u001b[1;33m.\u001b[0m\u001b[0mfind\u001b[0m\u001b[1;33m(\u001b[0m\u001b[1;34m'h3.s-item__title'\u001b[0m\u001b[1;33m,\u001b[0m \u001b[0mfirst\u001b[0m \u001b[1;33m=\u001b[0m \u001b[1;32mTrue\u001b[0m\u001b[1;33m)\u001b[0m\u001b[1;33m]\u001b[0m\u001b[1;33m\u001b[0m\u001b[1;33m\u001b[0m\u001b[0m\n\u001b[0m",
      "\u001b[1;31mTypeError\u001b[0m: 'NoneType' object is not iterable"
     ]
    }
   ],
   "source": [
    "content = soup1.find_all('div', {'class' : 's-item__info clearfix'})"
   ]
  },
  {
   "cell_type": "code",
   "execution_count": 81,
   "id": "becb20ea-c36f-46ee-8922-826b06004130",
   "metadata": {},
   "outputs": [
    {
     "data": {
      "text/plain": [
       "[]"
      ]
     },
     "execution_count": 81,
     "metadata": {},
     "output_type": "execute_result"
    }
   ],
   "source": [
    "laptop_spec"
   ]
  },
  {
   "cell_type": "code",
   "execution_count": null,
   "id": "98042fb8-e6db-48eb-96c5-ed7c33adfe5b",
   "metadata": {},
   "outputs": [],
   "source": []
  }
 ],
 "metadata": {
  "kernelspec": {
   "display_name": "Python 3 (ipykernel)",
   "language": "python",
   "name": "python3"
  },
  "language_info": {
   "codemirror_mode": {
    "name": "ipython",
    "version": 3
   },
   "file_extension": ".py",
   "mimetype": "text/x-python",
   "name": "python",
   "nbconvert_exporter": "python",
   "pygments_lexer": "ipython3",
   "version": "3.10.2"
  }
 },
 "nbformat": 4,
 "nbformat_minor": 5
}

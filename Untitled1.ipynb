{
 "cells": [
  {
   "cell_type": "code",
   "execution_count": 2,
   "id": "f13e8286-394e-46cb-957c-23432df82f98",
   "metadata": {},
   "outputs": [],
   "source": [
    "#importing the libraries needed \n",
    "import pandas as pd\n",
    "import numpy as np\n",
    "import requests\n",
    "from bs4 import BeautifulSoup\n",
    "from time import sleep\n",
    "from random import randint\n",
    "\n",
    "\n"
   ]
  },
  {
   "cell_type": "code",
   "execution_count": 26,
   "id": "0dbf22e2-b0b8-451e-9199-c4020581d65c",
   "metadata": {},
   "outputs": [],
   "source": [
    "#Declaring the headers \n",
    "headers = {'User-Agent':'Mozilla/5.0 (Macintosh; Intel Mac OS X 10_13_6) AppleWebKit/537.36 (KHTML, like Gecko) Chrome/71.0.3578.98 Safari/537.36'}\n",
    "\n",
    "#declaring the list of empty variables, So that we can append the data overall\n",
    "\n",
    "acc_name = []\n",
    "lap_state = []\n",
    "lap_price =[]\n",
    "\n",
    "\n",
    "#creating an array of values and passing it in the url for dynamic webpages\n",
    "pages = np.arange(1,100,1)\n",
    "\n",
    "#the whole core of the script\n",
    "for page in pages:\n",
    "    page = requests.get(\"https://www.ebay.co.uk/sch/i.html?_from=R40&_nkw=laptop&_sacat=0&_ipg=240&_pgn=\"+str(page))\n",
    "    soup = BeautifulSoup(page.text, 'html.parser')\n",
    "    acc_data = soup.find_all('div', {'class': 's-item__info clearfix'})\n",
    "    sleep(randint(2,6))\n",
    "    # print(acc_data[0])\n",
    "    for store in acc_data:\n",
    "        name = store.find('h3', {'class' : 's-item__title'}).text\n",
    "        acc_name.append(name)\n",
    "        \n",
    "        state = store.find('span', {'class' : 'SECONDARY_INFO'}).text\n",
    "        lap_state.append(state)\n",
    "        \n",
    "        price = store.find('span', {'class' : 's-item__price'}).text\n",
    "        lap_price.append(price)\n",
    "        \n",
    "        \n"
   ]
  },
  {
   "cell_type": "code",
   "execution_count": 28,
   "id": "6c4623eb-dba8-4686-95fe-a00db5484dbe",
   "metadata": {},
   "outputs": [
    {
     "name": "stdout",
     "output_type": "stream",
     "text": [
      "                                          Lap detail             Laptop State  \\\n",
      "0                                       Shop on eBay                Brand New   \n",
      "1  HP 255 G8 AMD Ryzen 5 3500U Laptop 64GB RAM 2T...                Brand new   \n",
      "2  Dell Latitude 7280 Core i5-6200U 8GB Ram 128GB...  Excellent - Refurbished   \n",
      "3  Zoostorm 11.6\" Dual Core N3350 Laptop, 4GB RAM...                Brand new   \n",
      "4  CHEAP Laptop Windows 10 Dual Core 1 Year Warra...  Very Good - Refurbished   \n",
      "\n",
      "  Laptop Price  \n",
      "0       $20.00  \n",
      "1      £989.00  \n",
      "2      £169.99  \n",
      "3       £79.99  \n",
      "4       £84.99  \n",
      "1032\n"
     ]
    }
   ],
   "source": [
    "#creating a dataframe \n",
    "data = pd.DataFrame({\"Lap detail\": acc_name, \"Laptop State\" : lap_state, \"Laptop Price\": lap_price})\n",
    "\n",
    "print(data.head())\n",
    "\n",
    "# data.to_csv('ebay_leptops.csv', index = None)\n",
    "print(len(data))"
   ]
  },
  {
   "cell_type": "code",
   "execution_count": null,
   "id": "4b30c3f8-5b98-482c-ba8a-36c5f77005f5",
   "metadata": {},
   "outputs": [],
   "source": []
  }
 ],
 "metadata": {
  "kernelspec": {
   "display_name": "Python 3 (ipykernel)",
   "language": "python",
   "name": "python3"
  },
  "language_info": {
   "codemirror_mode": {
    "name": "ipython",
    "version": 3
   },
   "file_extension": ".py",
   "mimetype": "text/x-python",
   "name": "python",
   "nbconvert_exporter": "python",
   "pygments_lexer": "ipython3",
   "version": "3.10.2"
  }
 },
 "nbformat": 4,
 "nbformat_minor": 5
}

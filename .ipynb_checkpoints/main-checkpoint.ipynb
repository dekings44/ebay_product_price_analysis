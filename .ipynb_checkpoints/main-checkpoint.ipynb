{
 "cells": [
  {
   "cell_type": "code",
   "execution_count": 68,
   "id": "827ad868-67d2-4b9e-85a2-0ba352de7d5d",
   "metadata": {},
   "outputs": [],
   "source": [
    "#Importing the necessary libraries and modules\n",
    "from urllib.request import Request, urlopen\n",
    "import requests\n",
    "from bs4 import BeautifulSoup\n",
    "import re\n",
    "import pandas as pd\n",
    "import numpy as np\n",
    "from time import sleep\n",
    "from random import randint\n",
    "import matplotlib.pyplot as plt\n",
    "import seaborn as sns\n",
    "import plotly.express as px"
   ]
  },
  {
   "cell_type": "code",
   "execution_count": null,
   "id": "c8b938b4-3c07-4648-8e86-29d520e08811",
   "metadata": {},
   "outputs": [],
   "source": []
  },
  {
   "cell_type": "code",
   "execution_count": 69,
   "id": "d60be648-62d5-4d9c-b816-5a5907243d71",
   "metadata": {},
   "outputs": [],
   "source": [
    "header = {'User-Agent':'Mozilla/5.0 (Macintosh; Intel Mac OS X 10_13_6) AppleWebKit/537.36 (KHTML, like Gecko) Chrome/71.0.3578.98 Safari/537.36'}"
   ]
  },
  {
   "cell_type": "code",
   "execution_count": 74,
   "id": "abff864a-7ceb-4cbf-953a-53b02285734d",
   "metadata": {},
   "outputs": [],
   "source": [
    "link = 'https://www.ebay.co.uk/sch/i.html?_from=R40&_nkw=laptops&_sacat=0&LH_ItemCondition=1000%7C1500%7C2000%7C2010%7C2020&LH_Sold=1&rt=nc'"
   ]
  },
  {
   "cell_type": "code",
   "execution_count": 75,
   "id": "bfc94081-bac6-4566-af17-c3620624976a",
   "metadata": {},
   "outputs": [],
   "source": [
    "req = Request(link, headers = header)"
   ]
  },
  {
   "cell_type": "code",
   "execution_count": 57,
   "id": "97ecce70-66bd-4968-9cd1-05e2b665d284",
   "metadata": {
    "tags": []
   },
   "outputs": [
    {
     "name": "stdout",
     "output_type": "stream",
     "text": [
      "6\n"
     ]
    }
   ],
   "source": [
    "# webpage = urlopen(req).read()\n",
    "\n",
    "# with requests.Session() as c:\n",
    "#     soup = BeautifulSoup(webpage, 'html5lib')\n",
    "#     print(len(soup))"
   ]
  },
  {
   "cell_type": "code",
   "execution_count": 76,
   "id": "7e913078-2f9f-4d21-a6ac-97292d522202",
   "metadata": {},
   "outputs": [],
   "source": [
    "webpage = urlopen(req).read()"
   ]
  },
  {
   "cell_type": "code",
   "execution_count": 109,
   "id": "b76ea122-763a-4726-add8-2438706f238e",
   "metadata": {},
   "outputs": [],
   "source": [
    "soup1 = BeautifulSoup(webpage, 'html5lib')"
   ]
  },
  {
   "cell_type": "code",
   "execution_count": 133,
   "id": "1333c534-aa8e-4161-b088-d9389048e467",
   "metadata": {},
   "outputs": [],
   "source": [
    "content = soup1.find_all('div', {'class' : 's-item__info clearfix'})"
   ]
  },
  {
   "cell_type": "code",
   "execution_count": 135,
   "id": "132d25d8-3dff-4626-94b7-cf028619f2c1",
   "metadata": {},
   "outputs": [],
   "source": [
    "title = soup1.find_all('h3', {'class' : 's-item__title s-item__title--has-tags'})"
   ]
  },
  {
   "cell_type": "code",
   "execution_count": 143,
   "id": "becb20ea-c36f-46ee-8922-826b06004130",
   "metadata": {},
   "outputs": [],
   "source": [
    "# title_disc = []\n",
    "# for tit in content:\n",
    "#    title_disc.append(tit.text)\n",
    "# print(title_disc)\n",
    "\n",
    "\n",
    "# for items in content:\n",
    "#     title = items.find('h3', {'class' : 's-item__title s-item__title--has-tags'})\n",
    "    \n",
    "#     print(type(title))"
   ]
  },
  {
   "cell_type": "code",
   "execution_count": 136,
   "id": "db705612-c1eb-4f94-990f-bd06294d32c3",
   "metadata": {
    "collapsed": true,
    "jupyter": {
     "outputs_hidden": true
    },
    "tags": []
   },
   "outputs": [
    {
     "data": {
      "text/plain": [
       "[<h3 class=\"s-item__title s-item__title--has-tags\"><span class=\"LIGHT_HIGHLIGHT\">New listing</span>Acer Nitro 5 AN515-57 15.6\" 144Hz (512GB SSD, Intel Core i7-11800H, 2.4GHz, 16GB</h3>,\n",
       " <h3 class=\"s-item__title s-item__title--has-tags\">Lenovo Ideapad duet 3i 1y Office tablet 10.3â€� FHD 1920x1200 Intel N4020 4GB 64GB</h3>,\n",
       " <h3 class=\"s-item__title s-item__title--has-tags\">AMD K6 MMX Processor Sticker Badge for desktop or Laptop PC</h3>,\n",
       " <h3 class=\"s-item__title s-item__title--has-tags\">HP Stream 11 ak0514sa 11.6\" 64GB eMMC, Intel Celeron N4020 1.1GHz 4GB RAM </h3>,\n",
       " <h3 class=\"s-item__title s-item__title--has-tags\">HP Dragonfly G2 2-in-1 Touch-Laptop 13.3\" #4K9W5EA - New - 3 Yr Warr Upg. Win11</h3>,\n",
       " <h3 class=\"s-item__title s-item__title--has-tags\">HP EliteBook 830 G8 13.3\" Intel Core i5-1135G7 up to 4.2 GHz 8GB RAM 256GB SSD</h3>,\n",
       " <h3 class=\"s-item__title s-item__title--has-tags\">ASUS chromebook C204MA-GJ0080-3Y 11\"</h3>,\n",
       " <h3 class=\"s-item__title s-item__title--has-tags\">HP ProBook 455 G7 15.6\" Laptop - AMD Ryzen 5, 256 GB SSD, 8gb RAM Silver</h3>,\n",
       " <h3 class=\"s-item__title s-item__title--has-tags\">BRAND NEW Lenovo ThinkPad P50 Laptop i7-6820HQ 32GB 256GB 15.6\"Â  Gaming RRP Â£1K+</h3>,\n",
       " <h3 class=\"s-item__title s-item__title--has-tags\">HP Pavilion Intel Core i3 10th Gen 8GB 256GB 14\" Laptop 14-ce3602sa Win10 Purple</h3>,\n",
       " <h3 class=\"s-item__title s-item__title--has-tags\">Dell XPS 13 9305 13.3\" (512GB, Intel Core i7-1165G7 4.70 GHz , 8GB)...</h3>,\n",
       " <h3 class=\"s-item__title s-item__title--has-tags\">DELL XPS 15 9510 4.6 i7 11800H 32GB 1TB, RTX 3050 Ti, 15.6 OLED 3456x2160 Win 11</h3>,\n",
       " <h3 class=\"s-item__title s-item__title--has-tags\">Lenovo ThinkPad T14s Gen 2 - Intel Core i7-1185G7, 16GB RAM, 512GB SSD, 14\".</h3>,\n",
       " <h3 class=\"s-item__title s-item__title--has-tags\">âœ…ï¸�DELL G15 15.6\" 120Hz Gaming Laptop - FULL HD, 8GB, Windows 11  ðŸ”¥</h3>,\n",
       " <h3 class=\"s-item__title s-item__title--has-tags\">Samsung Chromebook 4 11.6\" (32GB eMMC, Intel Celeron N, 2.60GHz, 4GB) Laptop...</h3>,\n",
       " <h3 class=\"s-item__title s-item__title--has-tags\">ASUS ExpertBook B1500 15.6\" Full HD Laptop - Immaculate</h3>,\n",
       " <h3 class=\"s-item__title s-item__title--has-tags\"><span class=\"LIGHT_HIGHLIGHT\">New listing</span>ASUS ROG Zephyrus G14 GA402RJ 14\" WUXGA 144Hz Gaming Laptop (AMD Ryzen...</h3>,\n",
       " <h3 class=\"s-item__title s-item__title--has-tags\">Dell latitude 7310 brand new boxed core i5 256SSD 13 inch screen </h3>,\n",
       " <h3 class=\"s-item__title s-item__title--has-tags\">LENOVO IdeaPad Duet 3i 10.3\" 2 in 1 Laptop -IntelÂ® CeleronÂ®, 64 GB eMMC, Grey</h3>,\n",
       " <h3 class=\"s-item__title s-item__title--has-tags\">Hp 350 G2 15.6\" Pentium 3805u 1.9GHz 6GB 256GB SSD Win10 FAST CHEAP laptop </h3>,\n",
       " <h3 class=\"s-item__title s-item__title--has-tags\">Samsung Galaxy Book Flex2Â 5G Laptop - 13.3in FHD, Core I7,Â 512GB, 8GB RAM</h3>,\n",
       " <h3 class=\"s-item__title s-item__title--has-tags\">Microsoft surface laptop go 2. 256gb 8gb ram ( new unopened)</h3>,\n",
       " <h3 class=\"s-item__title s-item__title--has-tags\">Lenovo Laptop - X220</h3>,\n",
       " <h3 class=\"s-item__title s-item__title--has-tags\">DELL Inspiron 15 3000 15.6\" Laptop - 256 GB Black Please Read My Description ï¿¼</h3>,\n",
       " <h3 class=\"s-item__title s-item__title--has-tags\">Fujitsu LifeBook Windows10 Gaming Laptop Intel 2.4GHz HD 500Gb 15.6\" DVD HDMI</h3>,\n",
       " <h3 class=\"s-item__title s-item__title--has-tags\">LENOVO IdeaPad 3i 14\" Chromebook - Intel Celeron, Abyss Blue -</h3>,\n",
       " <h3 class=\"s-item__title s-item__title--has-tags\">Samsung Galaxy Book2 Pro 5G 15.6\" Coreâ„¢ i5 8GB 256 GB. Wi-Fi + 5G EX DISPLAY</h3>,\n",
       " <h3 class=\"s-item__title s-item__title--has-tags\">HP ENVY x360 13-ay0009na 13.3\" Convertible Laptop AMD Ryzen 7 16GB RAM</h3>,\n",
       " <h3 class=\"s-item__title s-item__title--has-tags\">Acer Swift 1 SF114-34-P1R9 Notebook 35.6 cm (14\") 1920 x 1080 pixels IntelÂ® Pent</h3>,\n",
       " <h3 class=\"s-item__title s-item__title--has-tags\"><span class=\"LIGHT_HIGHLIGHT\">New listing</span>Lenovo IdeaPad 5 Laptop Ryzen 5-4500U</h3>,\n",
       " <h3 class=\"s-item__title s-item__title--has-tags\">OMEN by HP 17-ck0000na Gaming Laptop with NVIDIAÂ® GeForce RTXâ„¢ 3080</h3>,\n",
       " <h3 class=\"s-item__title s-item__title--has-tags\">Google Pixelbook Go 13.3 inch 128GB i5 8th Gen1.30GHz 8GBÂ ga00521-uk</h3>,\n",
       " <h3 class=\"s-item__title s-item__title--has-tags\">ACER Swift 5 SF514-55T 14\" Laptop Intel Core i7 512 GB SSD Mist Green NEW/SEALED</h3>,\n",
       " <h3 class=\"s-item__title s-item__title--has-tags\">HP Spectre x360 13.3\" Touchscreen Laptop Intel Core i5-1035G4 8GB RAM, 256GB SSD</h3>,\n",
       " <h3 class=\"s-item__title s-item__title--has-tags\">Lenovo IdeaPad 3i Intel Pentium Gold 7505U 4GB 128GB SSD 15.6\" Windows 10 Laptop</h3>,\n",
       " <h3 class=\"s-item__title s-item__title--has-tags\">Dell XPS 13 - 9310 - i7 5.0GHz 11th Gen - 16GB RAM - 1TB SSD - 13.4\" FHD+ </h3>,\n",
       " <h3 class=\"s-item__title s-item__title--has-tags\">HP Spectre x360 16\" 2-in-1 Touchscreen Laptop Core i7 11th Gen. 32GB RAM 1TB SSD</h3>,\n",
       " <h3 class=\"s-item__title s-item__title--has-tags\">iOTA Flo 360 11.6-inch Touchscreen Laptop (Intel Celeron Dual Core, 4GB RAM)</h3>,\n",
       " <h3 class=\"s-item__title s-item__title--has-tags\">Dell Precision 3560 Laptop 15.6\" Full HD, i7-1165G7, 16GB RAM,512GB SSD, NVIDIA</h3>,\n",
       " <h3 class=\"s-item__title s-item__title--has-tags\">HP Chromebook 11 G5 EE Intel Celeron N3060 4GB RAM 16GB eMMC Student Laptop HDMI</h3>,\n",
       " <h3 class=\"s-item__title s-item__title--has-tags\">HP Chromebook 14a-na0007naÂ 14\"Â Chrome OSâ„¢Â IntelÂ® CeleronÂ®Â 4GB RAMÂ 64GB eMMCÂ FHD</h3>,\n",
       " <h3 class=\"s-item__title s-item__title--has-tags\">Lenovo 300e 2nd Gen Notebook 81M9 - Intel N4120 1.1GHz, 4GB RAM, 64GB eMMC</h3>,\n",
       " <h3 class=\"s-item__title s-item__title--has-tags\">Huawei MateBook D 14 FHD Laptop  Intel Core i5 8GB 512GB SSD MX250 Windows 11 </h3>,\n",
       " <h3 class=\"s-item__title s-item__title--has-tags\">HP Laptop 17-cp0021na 17.3\" AMD Ryzenâ„¢ 5, 16GB RAM, 512GB SSD, FHD, Blue</h3>,\n",
       " <h3 class=\"s-item__title s-item__title--has-tags\">Lenovo IdeaPad Duet 3 10.3\" 2 in 1 Laptop Intel Celeron 4GB RAM 64GB eMMC</h3>,\n",
       " <h3 class=\"s-item__title s-item__title--has-tags\">Lenovo IdeaPad Gaming 3 15 - Shadow Black Laptop, 15.6'', Windows 11 Home 64</h3>,\n",
       " <h3 class=\"s-item__title s-item__title--has-tags\">Panasonic Toughbook CF-19 Intel Core i5, Diagnostics Windows 10 Rugged Laptop 3G</h3>,\n",
       " <h3 class=\"s-item__title s-item__title--has-tags\">HP EliteBook 840 G7 Laptop 14\" Touchscreen, Intel i5-10310U, 16GB RAM, 512GB SSD</h3>,\n",
       " <h3 class=\"s-item__title s-item__title--has-tags\">MSI Delta 15 A5EFK-047UK 15.6\" FHD Gaming Laptop AMD R9-5900H 16GB RAM 1TB SSD</h3>,\n",
       " <h3 class=\"s-item__title s-item__title--has-tags\">LENOVO IdeaPad 3i 14\" Laptop - IntelÂ® Coreâ„¢ i5, 256 GB SSD,Refurbished B</h3>,\n",
       " <h3 class=\"s-item__title s-item__title--has-tags\">ASUS VivoBook X705MA 17.3\" Laptop - IntelÂ® Pentiumâ„¢ 8GB RAM, 1 TB HDD Win 11 HD+</h3>,\n",
       " <h3 class=\"s-item__title s-item__title--has-tags\">ASUS Chromebook C223NA-GJ0014 Intel Celeron N3350 4Gb 32Gb eMMC 11.6\" HD Chrome</h3>,\n",
       " <h3 class=\"s-item__title s-item__title--has-tags\">Lenovo Legion 5 Core i7-11800H 16GB 512GB SSD GeForce RTX 3070 15.6 I 82JH00HDUK</h3>,\n",
       " <h3 class=\"s-item__title s-item__title--has-tags\">HP Laptop Touch Screen EliteBook X360 i5 16GB 512GB Windows 10 1 Year Warranty</h3>,\n",
       " <h3 class=\"s-item__title s-item__title--has-tags\">Lenovo Thinkpad X260 Core i5-6200U 2.30GHz 8GB 256GB SSD Webcam HDMI Laptop</h3>,\n",
       " <h3 class=\"s-item__title s-item__title--has-tags\">Lenovo ThinkPad L390 Yoga Laptop i5-8265U 8GB RAM 256GB SSD 13.3\" FHD Touch IPS</h3>,\n",
       " <h3 class=\"s-item__title s-item__title--has-tags\">ASUS M515DA AMD Ryzen 3 3250U Laptop 8GB RAM 256GB SSD 15.6 inch Windows 10 Pro</h3>,\n",
       " <h3 class=\"s-item__title s-item__title--has-tags\">SUPER FAST WINDOWS 11 LAPTOP CORE I3 4GB/8GB RAM HDD SSD FREEGIFT WARRANTY</h3>,\n",
       " <h3 class=\"s-item__title s-item__title--has-tags\">HP 14a 14\" Chromebook - Intel Celeron, 64 GB eMMC, White REFURBISHED A</h3>,\n",
       " <h3 class=\"s-item__title s-item__title--has-tags\">ARKA Book 11.6\" Laptop - Celeron 1.1GHz CPU, 4GB RAM - Grade B</h3>]"
      ]
     },
     "execution_count": 136,
     "metadata": {},
     "output_type": "execute_result"
    }
   ],
   "source": [
    "title"
   ]
  },
  {
   "cell_type": "code",
   "execution_count": 141,
   "id": "d32a9379-0365-48b2-ac4d-9cf11977f11c",
   "metadata": {},
   "outputs": [],
   "source": [
    "hotel_name = [name.text for name in title]"
   ]
  },
  {
   "cell_type": "code",
   "execution_count": 142,
   "id": "98042fb8-e6db-48eb-96c5-ed7c33adfe5b",
   "metadata": {
    "collapsed": true,
    "jupyter": {
     "outputs_hidden": true
    },
    "tags": []
   },
   "outputs": [
    {
     "data": {
      "text/plain": [
       "['New listingAcer Nitro 5 AN515-57 15.6\" 144Hz (512GB SSD, Intel Core i7-11800H, 2.4GHz, 16GB',\n",
       " 'Lenovo Ideapad duet 3i 1y Office tablet 10.3â€� FHD 1920x1200 Intel N4020 4GB 64GB',\n",
       " 'AMD K6 MMX Processor Sticker Badge for desktop or Laptop PC',\n",
       " 'HP Stream 11 ak0514sa 11.6\" 64GB eMMC, Intel Celeron N4020 1.1GHz 4GB RAM ',\n",
       " 'HP Dragonfly G2 2-in-1 Touch-Laptop 13.3\" #4K9W5EA - New - 3 Yr Warr Upg. Win11',\n",
       " 'HP EliteBook 830 G8 13.3\" Intel Core i5-1135G7 up to 4.2 GHz 8GB RAM 256GB SSD',\n",
       " 'ASUS chromebook C204MA-GJ0080-3Y 11\"',\n",
       " 'HP ProBook 455 G7 15.6\" Laptop - AMD Ryzen 5, 256 GB SSD, 8gb RAM Silver',\n",
       " 'BRAND NEW Lenovo ThinkPad P50 Laptop i7-6820HQ 32GB 256GB 15.6\"Â\\xa0 Gaming RRP Â£1K+',\n",
       " 'HP Pavilion Intel Core i3 10th Gen 8GB 256GB 14\" Laptop 14-ce3602sa Win10 Purple',\n",
       " 'Dell XPS 13 9305 13.3\" (512GB, Intel Core i7-1165G7 4.70 GHz , 8GB)...',\n",
       " 'DELL XPS 15 9510 4.6 i7 11800H 32GB 1TB, RTX 3050 Ti, 15.6 OLED 3456x2160 Win 11',\n",
       " 'Lenovo ThinkPad T14s Gen 2 - Intel Core i7-1185G7, 16GB RAM, 512GB SSD, 14\".',\n",
       " 'âœ…ï¸�DELL G15 15.6\" 120Hz Gaming Laptop - FULL HD, 8GB, Windows 11  ðŸ”¥',\n",
       " 'Samsung Chromebook 4 11.6\" (32GB eMMC, Intel Celeron N, 2.60GHz, 4GB) Laptop...',\n",
       " 'ASUS ExpertBook B1500 15.6\" Full HD Laptop - Immaculate',\n",
       " 'New listingASUS ROG Zephyrus G14 GA402RJ 14\" WUXGA 144Hz Gaming Laptop (AMD Ryzen...',\n",
       " 'Dell latitude 7310 brand new boxed core i5 256SSD 13 inch screen ',\n",
       " 'LENOVO IdeaPad Duet 3i 10.3\" 2 in 1 Laptop -IntelÂ® CeleronÂ®, 64 GB eMMC, Grey',\n",
       " 'Hp 350 G2 15.6\" Pentium 3805u 1.9GHz 6GB 256GB SSD Win10 FAST CHEAP laptop ',\n",
       " 'Samsung Galaxy Book Flex2Â\\xa05G Laptop - 13.3in FHD, Core I7,Â\\xa0512GB, 8GB RAM',\n",
       " 'Microsoft surface laptop go 2. 256gb 8gb ram ( new unopened)',\n",
       " 'Lenovo Laptop - X220',\n",
       " 'DELL Inspiron 15 3000 15.6\" Laptop - 256 GB Black Please Read My Description ï¿¼',\n",
       " 'Fujitsu LifeBook Windows10 Gaming Laptop Intel 2.4GHz HD 500Gb 15.6\" DVD HDMI',\n",
       " 'LENOVO IdeaPad 3i 14\" Chromebook - Intel Celeron, Abyss Blue -',\n",
       " 'Samsung Galaxy Book2 Pro 5G 15.6\" Coreâ„¢ i5 8GB 256 GB. Wi-Fi + 5G EX DISPLAY',\n",
       " 'HP ENVY x360 13-ay0009na 13.3\" Convertible Laptop AMD Ryzen 7 16GB RAM',\n",
       " 'Acer Swift 1 SF114-34-P1R9 Notebook 35.6 cm (14\") 1920 x 1080 pixels IntelÂ® Pent',\n",
       " 'New listingLenovo IdeaPad 5 Laptop Ryzen 5-4500U',\n",
       " 'OMEN by HP 17-ck0000na Gaming Laptop with NVIDIAÂ® GeForce RTXâ„¢ 3080',\n",
       " 'Google Pixelbook Go 13.3 inch 128GB i5 8th Gen1.30GHz 8GBÂ\\xa0ga00521-uk',\n",
       " 'ACER Swift 5 SF514-55T 14\" Laptop Intel Core i7 512 GB SSD Mist Green NEW/SEALED',\n",
       " 'HP Spectre x360 13.3\" Touchscreen Laptop Intel Core i5-1035G4 8GB RAM, 256GB SSD',\n",
       " 'Lenovo IdeaPad 3i Intel Pentium Gold 7505U 4GB 128GB SSD 15.6\" Windows 10 Laptop',\n",
       " 'Dell XPS 13 - 9310 - i7 5.0GHz 11th Gen - 16GB RAM - 1TB SSD - 13.4\" FHD+ ',\n",
       " 'HP Spectre x360 16\" 2-in-1 Touchscreen Laptop Core i7 11th Gen. 32GB RAM 1TB SSD',\n",
       " 'iOTA Flo 360 11.6-inch Touchscreen Laptop (Intel Celeron Dual Core, 4GB RAM)',\n",
       " 'Dell Precision 3560 Laptop 15.6\" Full HD, i7-1165G7, 16GB RAM,512GB SSD, NVIDIA',\n",
       " 'HP Chromebook 11 G5 EE Intel Celeron N3060 4GB RAM 16GB eMMC Student Laptop HDMI',\n",
       " 'HP Chromebook 14a-na0007naÂ\\xa014\"Â\\xa0Chrome OSâ„¢Â\\xa0IntelÂ® CeleronÂ®Â\\xa04GB RAMÂ\\xa064GB eMMCÂ\\xa0FHD',\n",
       " 'Lenovo 300e 2nd Gen Notebook 81M9 - Intel N4120 1.1GHz, 4GB RAM, 64GB eMMC',\n",
       " 'Huawei MateBook D 14 FHD Laptop  Intel Core i5 8GB 512GB SSD MX250 Windows 11 ',\n",
       " 'HP Laptop 17-cp0021na 17.3\" AMD Ryzenâ„¢ 5, 16GB RAM, 512GB SSD, FHD, Blue',\n",
       " 'Lenovo IdeaPad Duet 3 10.3\" 2 in 1 Laptop Intel Celeron 4GB RAM 64GB eMMC',\n",
       " \"Lenovo IdeaPad Gaming 3 15 - Shadow Black Laptop, 15.6'', Windows 11 Home 64\",\n",
       " 'Panasonic Toughbook CF-19 Intel Core i5, Diagnostics Windows 10 Rugged Laptop 3G',\n",
       " 'HP EliteBook 840 G7 Laptop 14\" Touchscreen, Intel i5-10310U, 16GB RAM, 512GB SSD',\n",
       " 'MSI Delta 15 A5EFK-047UK 15.6\" FHD Gaming Laptop AMD R9-5900H 16GB RAM 1TB SSD',\n",
       " 'LENOVO IdeaPad 3i 14\" Laptop - IntelÂ® Coreâ„¢ i5, 256 GB SSD,Refurbished B',\n",
       " 'ASUS VivoBook X705MA 17.3\" Laptop - IntelÂ® Pentiumâ„¢ 8GB RAM, 1 TB HDD Win 11 HD+',\n",
       " 'ASUS Chromebook C223NA-GJ0014 Intel Celeron N3350 4Gb 32Gb eMMC 11.6\" HD Chrome',\n",
       " 'Lenovo Legion 5 Core i7-11800H 16GB 512GB SSD GeForce RTX 3070 15.6 I 82JH00HDUK',\n",
       " 'HP Laptop Touch Screen EliteBook X360 i5 16GB 512GB Windows 10 1 Year Warranty',\n",
       " 'Lenovo Thinkpad X260 Core i5-6200U 2.30GHz 8GB 256GB SSD Webcam HDMI Laptop',\n",
       " 'Lenovo ThinkPad L390 Yoga Laptop i5-8265U 8GB RAM 256GB SSD 13.3\" FHD Touch IPS',\n",
       " 'ASUS M515DA AMD Ryzen 3 3250U Laptop 8GB RAM 256GB SSD 15.6 inch Windows 10 Pro',\n",
       " 'SUPER FAST WINDOWS 11 LAPTOP CORE I3 4GB/8GB RAM HDD SSD FREEGIFT WARRANTY',\n",
       " 'HP 14a 14\" Chromebook - Intel Celeron, 64 GB eMMC, White REFURBISHED A',\n",
       " 'ARKA Book 11.6\" Laptop - Celeron 1.1GHz CPU, 4GB RAM - Grade B']"
      ]
     },
     "execution_count": 142,
     "metadata": {},
     "output_type": "execute_result"
    }
   ],
   "source": [
    "hotel_name"
   ]
  },
  {
   "cell_type": "code",
   "execution_count": 147,
   "id": "295501c1-ee27-486b-b79c-704476dc854d",
   "metadata": {},
   "outputs": [],
   "source": [
    "#state = soup1.find_all('div', {'class' : 's-item__subtitle'})"
   ]
  },
  {
   "cell_type": "code",
   "execution_count": 150,
   "id": "050072bf-c857-4035-8410-5b03e0dc30b0",
   "metadata": {},
   "outputs": [],
   "source": [
    "state = [name.text for name in soup1.find_all('div', {'class' : 's-item__subtitle'})]"
   ]
  },
  {
   "cell_type": "code",
   "execution_count": 151,
   "id": "75ccff4f-124f-4a02-87c9-8d82fada1c7c",
   "metadata": {
    "collapsed": true,
    "jupyter": {
     "outputs_hidden": true
    },
    "tags": []
   },
   "outputs": [
    {
     "data": {
      "text/plain": [
       "['Brand New',\n",
       " 'Opened â€“ never used',\n",
       " 'Opened â€“ never used',\n",
       " 'Opened â€“ never used',\n",
       " 'Brand new',\n",
       " 'Opened â€“ never used',\n",
       " 'âœ…HP WARRANTY: 18 April 2025  âœ…Fast Deliveryâœ… UK Seller',\n",
       " 'Opened â€“ never used',\n",
       " 'Brand new',\n",
       " 'Opened â€“ never used',\n",
       " 'Opened â€“ never used',\n",
       " 'Opened â€“ never used',\n",
       " 'Opened â€“ never used',\n",
       " 'Brand new',\n",
       " 'Opened â€“ never used',\n",
       " 'Brand new',\n",
       " 'Brand new',\n",
       " 'Opened â€“ never used',\n",
       " 'Brand new',\n",
       " 'Opened â€“ never used',\n",
       " 'Brand new',\n",
       " 'Excellent - Refurbished',\n",
       " 'Brand new',\n",
       " 'Brand new',\n",
       " 'Opened â€“ never used',\n",
       " 'Brand new',\n",
       " 'BUY NOW TO RECEIVE FREE RECORDED DELIVERY AND WARRANTY',\n",
       " 'Excellent - Refurbished',\n",
       " 'Opened â€“ never used',\n",
       " 'Opened â€“ never used',\n",
       " 'Refurbished - 12 Month Warranty - Fast & Free Delivery',\n",
       " 'Excellent - Refurbished',\n",
       " 'Opened â€“ never used',\n",
       " 'Opened â€“ never used',\n",
       " 'Brand new',\n",
       " 'Brand new',\n",
       " 'Brand new',\n",
       " 'Certified - Refurbished',\n",
       " 'Excellent - Refurbished',\n",
       " 'Brand new',\n",
       " 'Brand new',\n",
       " 'Opened â€“ never used',\n",
       " 'Brand new',\n",
       " 'âœ” 12 Months Warranty âœ” Free Gift âœ” Long Battery Life',\n",
       " 'Excellent - Refurbished',\n",
       " 'Brand new',\n",
       " 'Brand new',\n",
       " 'Brand new',\n",
       " 'Brand new',\n",
       " 'Brand new',\n",
       " 'July Sale plus All VAT and duty included',\n",
       " 'Brand new',\n",
       " 'Part Of Ebays Refurbisher Programme For Elite Sellers',\n",
       " 'Very Good - Refurbished',\n",
       " 'Brand new',\n",
       " 'Brand new',\n",
       " 'Very Good - Refurbished',\n",
       " 'Brand new',\n",
       " 'Excellent - Refurbished',\n",
       " 'Â£100 OFF WITH CODE: LAPTOP100',\n",
       " 'Brand new',\n",
       " 'Very Good - Refurbished',\n",
       " \"10% off with code HOT10, Max Â£50 by 25/07 T's&C's\",\n",
       " 'Very Good - Refurbished',\n",
       " 'Brand new',\n",
       " 'Brand new',\n",
       " 'ðŸ’¥HIGH PERFORMANCE AGGRESSIVE PRICINGðŸ’¥',\n",
       " 'Very Good - Refurbished',\n",
       " 'Excellent - Refurbished',\n",
       " 'Grade B Stock from The Official CCL Store On eBay',\n",
       " 'Opened â€“ never used']"
      ]
     },
     "execution_count": 151,
     "metadata": {},
     "output_type": "execute_result"
    }
   ],
   "source": [
    "state"
   ]
  },
  {
   "cell_type": "code",
   "execution_count": 152,
   "id": "3481f279-d766-4fa3-8907-e232ae8752b7",
   "metadata": {},
   "outputs": [],
   "source": [
    "price = [name.text for name in soup1.find_all('span', {'class' : 's-item__price'})]"
   ]
  },
  {
   "cell_type": "code",
   "execution_count": 153,
   "id": "d80b38bd-d579-4158-b457-584473951353",
   "metadata": {
    "collapsed": true,
    "jupyter": {
     "outputs_hidden": true
    },
    "tags": []
   },
   "outputs": [
    {
     "data": {
      "text/plain": [
       "['$20.00',\n",
       " 'Â£525.00',\n",
       " 'Â£101.00',\n",
       " 'Â£1.99',\n",
       " 'Â£143.99',\n",
       " 'Â£620.00',\n",
       " 'Â£529.00',\n",
       " 'Â£90.00',\n",
       " 'Â£399.99',\n",
       " 'Â£470.00',\n",
       " 'Â£369.99',\n",
       " 'Â£465.00',\n",
       " 'Â£1,300.00',\n",
       " 'Â£692.00',\n",
       " 'Â£435.00',\n",
       " 'Â£90.00',\n",
       " 'Â£300.00',\n",
       " 'Â£1,200.00',\n",
       " 'Â£206.00',\n",
       " 'Â£123.00',\n",
       " 'Â£92.00',\n",
       " 'Â£599.00',\n",
       " 'Â£500.00',\n",
       " 'Â£90.00',\n",
       " 'Â£299.99',\n",
       " 'Â£219.99',\n",
       " 'Â£97.00',\n",
       " 'Â£899.99',\n",
       " 'Â£699.99',\n",
       " 'Â£148.00',\n",
       " 'Â£170.00',\n",
       " 'Â£1,750.00',\n",
       " 'Â£529.99',\n",
       " 'Â£575.00',\n",
       " 'Â£649.99',\n",
       " 'Â£239.99',\n",
       " 'Â£742.00',\n",
       " 'Â£1,449.00',\n",
       " 'Â£119.95',\n",
       " 'Â£989.95',\n",
       " 'Â£62.99',\n",
       " 'Â£169.99',\n",
       " 'Â£80.00',\n",
       " 'Â£400.00',\n",
       " 'Â£549.99',\n",
       " 'Â£130.00',\n",
       " 'Â£698.99',\n",
       " 'Â£179.99',\n",
       " 'Â£729.95',\n",
       " 'Â£950.00',\n",
       " 'Â£260.15',\n",
       " 'Â£389.99',\n",
       " 'Â£79.99',\n",
       " 'Â£1,099.97',\n",
       " 'Â£339.95',\n",
       " 'Â£174.99',\n",
       " 'Â£579.99',\n",
       " 'Â£329.00',\n",
       " 'Â£99.99 to Â£130.99',\n",
       " 'Â£142.46',\n",
       " 'Â£89.99']"
      ]
     },
     "execution_count": 153,
     "metadata": {},
     "output_type": "execute_result"
    }
   ],
   "source": [
    "price"
   ]
  },
  {
   "cell_type": "code",
   "execution_count": 159,
   "id": "50ea8978-a9d9-4ca8-a6f2-742a8c2edb1d",
   "metadata": {},
   "outputs": [
    {
     "name": "stdout",
     "output_type": "stream",
     "text": [
      "laptop description: ['*BRAND NEW* Microsoft Surface Laptop 4 15\" 512GB SSD 8GB Ram AMD Ryzen 7-4980U', 'New listinggaming laptop Bundle', 'HP Pavilion 15-eh0007na 15.6\" (256GB SSD, AMD Ryzen 3 4000 Series, 3.70 GHz, 8GB', 'HP 15-dw1023na 15.6\" Laptop Intel Celeron N4020 4GB RAM 1TB HDD', '15.6\" Lenovo V130 Business,Intel Dual Core CPU,8GB RAM,1TB HDD,Win 10 Pro, DVDRW', 'Lenovo ThinkPad X13 Yoga 13.3 inch (256GB, Intel Core i5-10210U CPU 1.6GHz, 8GB', 'VivoBook 15 A513EA-BQ1358T Laptop - 15.6in FHD IPs, Intel Core i5, 8GB RAM, 256G', 'ASUS VivoBook S 15.6 - S513EA Full HD Metal Laptop  i5-1135G7, 16GB RAM, 512GB', 'HP Chromebook x360 14a-ca0009Sa 2-in-1 Laptop Touchscreen Intel N4020 64GB eMMC', 'hp stream x360', 'Samsung Galaxy Book2 Pro 15.6\" 5G WiFi & SIM card ', 'HP Laptop 17-cp0021na 17.3\" AMD Ryzenâ„¢ 5, 16GB RAM, 512GB SSD, FHD, Blue', 'Acer 15.6\" Laptop 8 GB RAM 256GB IntelÂ® Coreâ„¢ i5 Windows 10 Home - Black', 'Zoostorm 11.6\" Dual Core N3350 Laptop, 4GB RAM, 64GB eMMc, Win10 Pro, WiFi, BT', 'Lenovo 300e 2nd Gen Notebook 81M9 - Intel N4120 1.1GHz, 4GB RAM, 64GB eMMC', 'Dell Latitude E7270 Laptop - 12\" HD Laptop with i5 CPU + SSD & Windows 11 Pro', 'SAMSUNG Galaxy Book Pro 360 Mystic Navy Touchscreen - IntelÂ® Coreâ„¢ i7 16gb/512GB', 'Dell Precision 7760, 17.3\", Intel i7-11850H, 1TB SSD, 64GB RAM, NVIDIA RTX A4000', 'HP Pavilion 15-eh0507sa 15.6\" Laptop - AMD Ryzen 3, 256 GB, Silver REFURB A', 'HP x360 12\" 2 in 1 Chromebook - Intel Celeron 64 GB eMMC Silver - REFURB-B', 'Microsoft Surface Laptop 3 13.5\" Intel Core i5 1035G7 8GB 256GB SSD Win 10/11', 'HP ProBook 440 G8 Core i5-1135G7 8GB 256GB SSD 14 Inch FHD Windows 10 Pro Laptop', 'hp envy x360 13.3 Inch, 16 GB RAM', 'CODA 1.4 Intel Celeron N3350 4GB 64GB 14 Inch Windows 10 S Laptop Coda 1.4', 'ASUS M513IA Ryzen 7-4700U 8GB 512GB SSD 15.6 Inch Full HD Windows  M513IA-BQ549T', 'Lenovo ThinkPad T14 - Touchscreen Business Laptop - 4 Years Lenovo Warranty!', 'CHEAP Laptop Windows 10 Dual Core 1 Year Warranty WIRELESS 4GB Ram 160GB HDD', 'Lenovo Chromebook S345 14\" Laptop AMD A6-9220C 4GB RAM 64GB eMMC C grade', 'ASUS ROG Zephyrus M16 GU603ZM-K8006W Notebook 40.6 cm (16\") WQXGA IntelÂ® Coreâ„¢ i', 'Lenovo Windows 11 laptop 14.1\" Cheap Core i5 1st to 6th Gen up to 16GB 480GB SSD', 'Lenovo Yoga 9i 14 Inch Windows 10 Home Laptop - 82BG003MUK Shadow Black', 'ASUS ZenBook UX425EA Laptop 512GB SSD 8GB RAM Intel Core i5 Windows 10 Home', \"Dell Latitude 5290 2 in 1 pc 12.3'' Tablet PC i5 windows 11\", 'Microsoft Surface Pro 4 Core i5 2.40GHz 4GB Ram 128GB SSD Windows 11 Tablet', 'NEW LENOVO IDEAPAD 1 14\" CLOUDBOOK / NOTEBOOK / LAPTOP, N4020, 4GB, 64GB, GREY', 'HP Google Chromebook 14in Laptop AMD A4 9120 4GB RAM 32GB eMMC Blue', 'Cheap Laptop Portable Acer TravelMate B1 TMB118-M-C38W 11.6\" Celeron 64GB 4GB', 'Asus Tech Data 15.6\" Laptop 8 GB RAM 256 IntelÂ® Coreâ„¢ i5 Windows 11 Home in S', 'LENOVO IdeaPad Duet 10.1\" 2 in 1 Chromebook - Blue & Grey REFURBISHED A', 'Samsung Chromebook 4 11.6 XE310XBA', 'HP Pavilion 14-ec0537sa 14\" Laptop - AMD Ryzen 5, 256 GB SSD, Blue Box damage', 'acer aspire e15 laptop', 'Toshiba Satellite Laptop 15.6\" Windows10 HD Screen Fast 5GHz WiFi Webcam DVD USB', 'New listingAsus GX650RX-LO010W 16\" AMD Ryzen 9 32GB RAM 2TB SSD GeForce RTX 3080Ti', 'Dell Latitude 7240 Core i5-4310U 8GB Ram 128GB SSD Windows 10 Laptop Touchscreen', 'Microsoft Surface Pro 4 Laptop Tablet i5-6300U  8GB 256GB SSD touch Win 11 Pro', 'Dell Precision 5550, 15.6\" Full HD Screen, i7-10875H, 32GB RAM, 1TB SSD, NVIDIA ', 'HP x360 12b-ca0500na 12\" 2 in 1 Chromebook - IntelÂ® CeleronÂ®, 64 GB eMMC silver', 'Asus Exertis Chromebook 17.3\" Chromebook 4 GB RAM 128GB IntelÂ® PentiumÂ® Silver', 'HP 15-dw1021na 15.6in ( 128GB SSD, Intel Pentium Gold 6405U, 2.4GH z, 4GB...', 'ASUS 14 Inch FHD Chromebook â€ŽC423NA-EB0290 Intel Celeron N3350, 4 GB RAM, 64 GB', 'MacBook Air 13\" Clip on Case (\\'18/\\'19/\\'20)  Frozen White / clear', 'Dell Latitude 7280 Core i5-6300U 8GB Ram 256GB  Windows 11 Laptop TOUCHSCREEN', 'WINDOWS 11 Lenovo ThinkPad X250 Core i5 4GB 8GB Ram 128GB 240GB SSD Laptop FHD', 'samsung chromebook 4 11.6', 'HP 240 G7 14.1\" HD Laptop,Intel Celeron N4020,8GB RAM,128GB SSD,Win 10 P,USB 3.1', 'Lenovo Yoga Slim 7 Gen 5 (13\" AMD) 5600U 8GB RAM 256GB SSD 13.3\" WQXGA Windows ', 'Lenovo 300e 2nd Gen Laptop AMD 3015e 4GB RAM 128GB SSD 11.6\" IPS Touch Win10 Pro', 'NEW Acer Spin 3 14\" 256GB SSD HD Touch Convertible Laptop AMD Radeon Windows !', 'Lenovo ThinkPad P16s Gen 1 (Intel) i7-1260P Notebook 40.6 cm (16\") Quad HD+ Inte'] || Condition: ['Brand New', 'Brand new', 'Opened â€“ never used', 'Brand new', 'Refurbished - 12 Month Warranty - Fast & Free Delivery', 'Excellent - Refurbished', 'Brand new', 'Brand new', 'Brand new', 'Brand new', 'Brand new', 'Opened â€“ never used', 'Opened â€“ never used', 'Brand new', 'FREE DELIVERY AVAILABLE!', 'Brand new', 'UK Seller ! Fast & Free Delivery ! Full Warranty !', 'Brand new', 'Brand new', '1 Year Warranty - use code 10OFFLAPTOP for 10% Discount', 'Very Good - Refurbished', 'Opened â€“ never used', 'Opened â€“ never used', 'Excellent - Refurbished', 'Very Good - Refurbished', 'Opened â€“ never used', 'Brand NEW, 8GB 256GB SSD, Fast Delivery, 12M Warranty', 'Brand new', 'Opened â€“ never used', 'Free Delivery | 30 Day Return', 'Brand new', 'Â£50 OFF WITH CODE: LAPTOP50', 'Brand new', 'Intel Core i5 10th Generation - 16GB Ram - 256GB SSD!', 'Brand new', \"10% off with code HOT10, Max Â£50 by 25/07 T's&C's\", 'Very Good - Refurbished', 'Refurbished - 12 Month Warranty - Fast & Free Delivery', 'Very Good - Refurbished', 'Brand new', \"10% off with code HOT10, Max Â£50 by 25/07 T's&C's\", 'Very Good - Refurbished', 'Brand new', 'Excellent - Refurbished', 'Opened â€“ never used', \"10% off with code HOT10, Max Â£50 by 25/07 T's&C's\", 'Very Good - Refurbished', 'Opened â€“ never used', 'Very Good - Refurbished', 'Brand new', 'FREE DELIVERY AVAILABLE!', 'Brand new', 'Excellent - Refurbished', 'Brand new', 'Opened â€“ never used', 'Opened â€“ never used', 'Excellent - Refurbished', 'Brand new', '128 SSD âœ… Webcam âœ…TOUCHSCREEN EDITION âœ… Win 10', 'Very Good - Refurbished', 'Very Good - Refurbished', 'Opened â€“ never used', 'Opened â€“ never used', 'Opened â€“ never used', 'Opened â€“ never used', 'Brand new', 'Opened â€“ never used', '256GB SSD âœ… Webcam âœ…TOUCHSCREEN âœ… Win 11', 'Very Good - Refurbished', \"10% off with code HOT10, Max Â£50 by 25/07 T's&C's\", 'Very Good - Refurbished', 'Opened â€“ never used', 'Brand new', 'Brand new', 'Opened â€“ never used', 'Brand new', 'Brand new'] || Price: ['$20.00', 'Â£1,069.99', 'Â£850.00', 'Â£283.00', 'Â£199.99', 'Â£379.00', 'Â£398.00', 'Â£449.99', 'Â£549.99', 'Â£149.99', 'Â£60.00', 'Â£770.00', 'Â£549.99', 'Â£394.00', 'Â£79.99', 'Â£58.00', 'Â£149.85 to Â£299.85', 'Â£670.00', 'Â£2,399.95', 'Â£355.54', 'Â£163.22', 'Â£370.99', 'Â£689.99', 'Â£390.00', 'Â£105.96', 'Â£503.96', 'Â£599.00', 'Â£84.99', 'Â£135.99', 'Â£1,744.82', 'Â£109.99 to Â£319.99', 'Â£1,425.00', 'Â£364.16', 'Â£165.00', 'Â£119.99 to Â£219.99', 'Â£199.99', 'Â£99.99', 'Â£99.98', 'Â£399.00', 'Â£209.30', 'Â£77.00', 'Â£411.68', 'Â£146.00', 'Â£159.99', 'Â£1,999.00', 'Â£149.99', 'Â£229.99', 'Â£999.95', 'Â£150.00', 'Â£229.99', 'Â£128.00', 'Â£149.99', 'Â£9.99', 'Â£179.95', 'Â£99.99 to Â£219.99', 'Â£95.00', 'Â£229.95', 'Â£399.99', 'Â£129.99', 'Â£198.88', 'Â£1,721.00']\n",
      "\n",
      "laptop description: ['Lenovo ThinkPad P16s Gen 1 (Intel) i7-1260P Notebook 40.6 cm (16\") Quad HD+ Inte', 'HP Laptop 14s-fq1000na 14\" FHD, AMD Ryzenâ„¢ 5, 8GB RAM, 256GB SSD, Silver', 'Zoostorm 11.6\" Dual Core N3350 Laptop, 4GB RAM, 64GB eMMc, Win10 Pro, WiFi, BT', 'DELL XPS 15 9500 15.6in Silver Laptop - Intel i7-10750H 16GB RAM 1TB SSD GTX 165', 'HP EliteBook x360 Core i5-7200U 16GB Ram 256GB  Windows 11 Touchscreen Laptop.', 'LENOVO 82L500DQUK 16\" AMD Ryzen 7 16GB RAM 1000GB SSD GeForce RTX 3050', 'Dell Vostro 15 3568 15.6\" i5-7200U 2.5GHz 8GB 256GB SSD Webcam Windows 11 Laptop', 'asus vivobook 15 x515ea', 'LENOVO IdeaPad 3i 15.6\" Laptop - IntelÂ® CeleronÂ®,  Blue - REFURB-B', 'Windows 11 Laptop Dell Latitude 7390 Core i5-8350U 16GB Ram 256GB SSD Webcam', 'Dell BIOS Unlock Service System Admin BIOS password Precision 1F5A, 3A5B, 2A7B', 'Microsoft Surface Book 2, 15\" 3K Touch, i7-8650U, 16GB RAM, 1TB SSD, GTX 1060', 'Lenovo ThinkPad X1 Titanium Yoga Gen 1 Laptop 20QA002NUK I5 16G 512GB RRP Â£1639 ', 'Dell Precision 5540 Laptop, 15.6\" FHD, i7-9850H, 32GB RAM, 512GB SSD,NVIDIA ', 'Cheap Fast Dell Latitude Windows 11 Laptop i3 4th - 6th Gen 16GB 256GB Blue Pink', 'Dell Latitude 7280 Core i5-6200U 8GB Ram 128GB  Windows 11 Laptop', 'Lenovo ThinkBook 13s Laptop Core i5-10210U 8GB RAM 256GB SSD 13.3\" Full HD Win10', 'HP Chromebook 11 G5 EE Intel Celeron N3060 4GB RAM 16GB eMMC Student Laptop HDMI', 'ASUS C223 11.6\" Chromebook - IntelÂ® CeleronÂ®, 32 GB eMMC, Red ', 'Dell Inspiron 7415 2-in-1, Ryzen 7 5700U, 16GB RAM, 512GB SSD, 14\"', 'LENOVO IdeaPad Duet 10.1\" 2 in 1 Chromebook - Blue & Grey REFURB GRADE B', 'Windows10 install Disk (32bit and 64bit)', 'HP Chromebook 14a-nd0001na 14\" Laptop AMD 3015ce 4GB RAM 64GB eMMC White', 'Acer Nitro 5 AN515-57 15.6\" 144Hz (512GB SSD, Intel Core i7-11800H, 2.4GHz, 16GB', 'MSI Katana GF66 Core i7 16GB 512GB SSD RTX 3070 15.6\"  Win10 Home Gaming Laptop', 'Lenovo Ideapad duet 3i 1y Office tablet 10.3â€� FHD 1920x1200 Intel N4020 4GB 64GB', 'Dell Latitude 7280 Laptop - I5-7200 CPU Up to 16GB Ram+ M.2 SSD & Windows 11 Pro', 'HP Google ChromeBook 11a-nb0000na Intel Celeron N3350 4GB 32GB eMMC 11.6\" Laptop', 'AMD K6 MMX Processor Sticker Badge for desktop or Laptop PC', 'HP Stream 11 ak0514sa 11.6\" 64GB eMMC, Intel Celeron N4020 1.1GHz 4GB RAM ', 'HP Dragonfly G2 2-in-1 Touch-Laptop 13.3\" #4K9W5EA - New - 3 Yr Warr Upg. Win11', 'NEW Dell Chromebook 3380 Intel Celeron C3855U 4GB 32GB SSD 13.0\" HD FAST WEBCAM', 'HP EliteBook 830 G8 13.3\" Intel Core i5-1135G7 up to 4.2 GHz 8GB RAM 256GB SSD', 'ASUS chromebook C204MA-GJ0080-3Y 11\"', 'HP ProBook 455 G7 15.6\" Laptop - AMD Ryzen 5, 256 GB SSD, 8gb RAM Silver', 'Dell Latitude E7480 Core i5-7300U 8GB Ram 256GB  Windows 11 Laptop Webcam Hdmi', 'Lenovo V15 Laptop AMD Athlon Silver 3050U 4GB RAM 128GB SSD 15.6\" FHD Win 10 HM', 'HP Stream Laptop 11-ak0019na 11.6\" IntelÂ® CeleronÂ®, 4GB RAM,Â\\xa064GB eMMC,Â\\xa0Pink, HD', 'BRAND NEW Lenovo ThinkPad P50 Laptop i7-6820HQ 32GB 256GB 15.6\"Â\\xa0 Gaming RRP Â£1K+', 'HP Pavilion Intel Core i3 10th Gen 8GB 256GB 14\" Laptop 14-ce3602sa Win10 Purple', 'Dell Latitude 3520 Laptop 15.6\" FHD Intel i7-1165G7 8GB RAM 256GB SSD 0DGMH', 'HP Laptop Touch Screen EliteBook X360 i5 16GB 512GB Windows 10 1 Year Warranty', 'Dell XPS 13 9305 13.3\" (512GB, Intel Core i7-1165G7 4.70 GHz , 8GB)...', 'DELL XPS 15 9510 4.6 i7 11800H 32GB 1TB, RTX 3050 Ti, 15.6 OLED 3456x2160 Win 11', 'Lenovo ThinkPad T14s Gen 2 - Intel Core i7-1185G7, 16GB RAM, 512GB SSD, 14\".', 'Lenovo ThinkPad T550 15.6\" i7-5600U 2.60GHz 8GB 256GB SSD FHD Windows 11 Laptop', 'HP Chromebook 11.6\" Laptop 11a-nb0000na Celeron N3350 4GB 32GB eMMC 187K7EA', 'Acer 14\" Chromebook 4 GB RAM 64GB IntelÂ® CeleronÂ® Chrome OS - Silver', 'HP Laptop 17-cp0009na 17.3\" FHD, AMD Ryzenâ„¢ 3, 8GB RAM, 256GB SSD, Blue', '2022 10.1 Inch Android 10 Tablet PC 2GB/32GB Cameras GPS WiFi Dual Sims NEW', 'FAST Asus Chromebook Flip 360 C213N 11.6\" Celeron N3350 4GB RAM 32GB SSD Touch', 'âœ…ï¸�DELL G15 15.6\" 120Hz Gaming Laptop - FULL HD, 8GB, Windows 11  ðŸ”¥', 'HP Chromebook 14a-na0007naÂ\\xa014\"Â\\xa0Chrome OSâ„¢Â\\xa0IntelÂ® CeleronÂ®Â\\xa04GB RAMÂ\\xa064GB eMMCÂ\\xa0FHD', 'ASUS TUF A15 Ryzen 7-4800H 8GB 512GB SSD GeForce RTX 3050 15.6 In FA506IC-HN011W', 'ASUS M515DA-EJ776T Laptop AMD Ryzen 3-3250 4GB RAM 256GB SSD 15.6\" FHD Win 10 HM', 'Samsung Chromebook 4 11.6\" (32GB eMMC, Intel Celeron N, 2.60GHz, 4GB) Laptop...', 'ACER Aspire 5 A514-54 14\" Laptop - IntelÂ® Coreâ„¢ i5, Silver - REFURBISHED  B', 'ASUS ExpertBook B1500 15.6\" Full HD Laptop - Immaculate', 'Lenovo IdeaPad Flex 5i 13.3\" Chromebook i5-10210U 8GB RAM 128GB SSD Touch Screen', \"Lenovo Yoga Slim 7 Pro 16 - Storm Grey Laptop, 16.0'', Windows 11 Home 64\"] || Condition: ['Brand New', 'Brand new', 'Brand new', '10% off with code HOT10. Min spend Â£20. Max Â£75 off.', 'Brand new', 'Opened â€“ never used', 'TouchScreenâœ… Fingerprint Reader âœ… 360 Rotate âœ… Win 11', 'Excellent - Refurbished', 'Brand new', \"10% off with code HOT10, Max Â£50 by 25/07 T's&C's\", 'Very Good - Refurbished', 'Brand new', 'Very Good - Refurbished', 'Excellent - Refurbished', 'Brand new', 'Brand new', 'Brand new', 'Opened â€“ never used', \"10% off with code HOT10, Max Â£50 by 25/07 T's&C's\", 'Excellent - Refurbished', '128 M.2 SSD âœ… Webcam âœ…MICRO SD CARD READER  âœ… Win 11', 'Excellent - Refurbished', 'Brand new', 'âœ” 12 Months Warranty âœ” Free Gift âœ” Long Battery Life', 'Excellent - Refurbished', 'Opened â€“ never used', 'Brand new', 'Very Good - Refurbished', 'Brand new', 'Refurbished - 12 Month Warranty - Fast & Free Delivery', 'Excellent - Refurbished', 'Opened â€“ never used', 'Brand new', 'Opened â€“ never used', '1 Year Warranty - use code 10OFFLAPTOP for 10% Discount', 'Very Good - Refurbished', 'Very Good - Refurbished', 'Opened â€“ never used', 'Brand new', 'Opened â€“ never used', 'âœ”SALEâœ”12 Months Warrantyâœ”Free Gift', 'Opened â€“ never used', 'âœ…HP WARRANTY: 18 April 2025  âœ…Fast Deliveryâœ… UK Seller', 'Opened â€“ never used', 'Brand new', 'Opened â€“ never used', '256GB SSD âœ… Webcam âœ…Hdmi âœ… Win 11 âœ… 14\" HD Display', 'Very Good - Refurbished', 'Brand new', 'Brand new', 'Opened â€“ never used', 'Opened â€“ never used', 'Brand new', 'Very Good - Refurbished', 'Opened â€“ never used', 'Brand new', 'Opened â€“ never used', \"10% off with code HOT10, Max Â£50 by 25/07 T's&C's\", 'Very Good - Refurbished', 'Opened â€“ never used', 'FREE DELIVERY AVAILABLE!', 'Brand new', 'Brand new', 'Brand new', 'âœ“GRADE Aâœ“TOUCHSCREENâœ“CHEAP', 'Excellent - Refurbished', 'Brand new', 'Brand new', 'Free Delivery | 30 Day Return', 'Brand new', 'Brand new', 'Brand new', 'Very Good - Refurbished', 'Opened â€“ never used', 'Opened â€“ never used', 'July Sale plus All VAT and duty included', 'Brand new'] || Price: ['$20.00', 'Â£1,721.00', 'Â£379.99', 'Â£84.99', 'Â£1,172.95', 'Â£319.95', 'Â£739.99', 'Â£224.99', 'Â£137.00', 'Â£132.43', 'Â£279.99', 'Â£6.85', 'Â£1,089.95', 'Â£690.00', 'Â£849.95', 'Â£119.99 to Â£339.99', 'Â£169.99', 'Â£489.99', 'Â£62.99', 'Â£146.00', 'Â£520.00', 'Â£166.17', 'Â£6.99', 'Â£129.99', 'Â£525.00', 'Â£1,002.49', 'Â£101.00', 'Â£174.85 to Â£324.85', 'Â£84.99', 'Â£1.99', 'Â£143.99', 'Â£620.00', 'Â£99.99', 'Â£529.00', 'Â£90.00', 'Â£399.99', 'Â£209.95', 'Â£234.99', 'Â£179.99', 'Â£470.00', 'Â£369.99', 'Â£769.00', 'Â£339.95', 'Â£465.00', 'Â£1,300.00', 'Â£692.00', 'Â£249.99', 'Â£114.99', 'Â£249.00', 'Â£399.99', 'Â£95.88', 'Â£99.99', 'Â£435.00', 'Â£169.99', 'Â£653.96', 'Â£292.99', 'Â£90.00', 'Â£277.20', 'Â£300.00', 'Â£299.00', 'Â£799.99']\n",
      "\n",
      "laptop description: ['ASUS ROG Zephyrus G14 GA402RJ 14\" WUXGA 144Hz Gaming Laptop (AMD Ryzen...', 'Dell latitude 7310 brand new boxed core i5 256SSD 13 inch screen ', 'LENOVO IdeaPad Duet 3i 10.3\" 2 in 1 Laptop -IntelÂ® CeleronÂ®, 64 GB eMMC, Grey', 'Lenovo Thinkpad X260 Core i7-6600U 16GB Ram 240GB SSD Webcam HDMI Laptop FHD', 'Hp 350 G2 15.6\" Pentium 3805u 1.9GHz 6GB 256GB SSD Win10 FAST CHEAP laptop ', 'Samsung Galaxy Book Flex2Â\\xa05G Laptop - 13.3in FHD, Core I7,Â\\xa0512GB, 8GB RAM', 'NEW Samsung Galaxy Book2 Pro 360 15.6\" i7 1260P 16GB 512GB OLED 2-in-1 Laptop', 'Microsoft surface laptop go 2. 256gb 8gb ram ( new unopened)', 'Lenovo Laptop - X220', 'DELL Inspiron 15 3000 15.6\" Laptop - 256 GB Black Please Read My Description ï¿¼', 'Lenovo Yoga Slim 7 Pro Laptop Ryzen 5 5600H 16GB RAM 512GB SSD 16\" WQXGA Touch', 'Fujitsu LifeBook Windows10 Gaming Laptop Intel 2.4GHz HD 500Gb 15.6\" DVD HDMI', 'ASUS Expertbook BR1100FKA Laptop Celeron N4500 4GB 64GB eMMC 11.6\" Touch W10 Pro', 'LENOVO IdeaPad 3i 14\" Chromebook - Intel Celeron, Abyss Blue -', \"Samsung NP935QDB-KA2UK Galaxy Book Pro 360 5G i5 13.3'' Windows 11 8GB 256GB\", 'Samsung Galaxy Book2 Pro 5G 15.6\" Coreâ„¢ i5 8GB 256 GB. Wi-Fi + 5G EX DISPLAY', 'Lenovo ThinkPad T460p i7-6700HQ 16GB 512GB SSD NVIDIA GeForce Windows 11 Laptop', 'HP ENVY x360 13-ay0009na 13.3\" Convertible Laptop AMD Ryzen 7 16GB RAM', 'BRAND NEW LENOVO L15 GEN1 - I5 10210U - 8 GB - 256 SSD - WARRANTY !!!', 'Acer Swift 1 SF114-34-P1R9 Notebook 35.6 cm (14\") 1920 x 1080 pixels IntelÂ® Pent', ' Laptop 15.6\" IntelÂ® Core,Â\\xa06GB RAM,Â\\xa0128GB SSD,TECLAST F15  Notebook Intel N4120 ', 'ASUS Chromebook C423NA 14 Inch Laptop, Intel Celeron N3350, 4 GB RAM, 64GB eMMC', 'Lenovo IdeaPad 5 Laptop Ryzen 5-4500U', 'Dell XPS 13 9370 4K Touchscreen i7-8550U 8GB 256GB SSD Webcam Windows 11 Laptop', 'OMEN by HP 17-ck0000na Gaming Laptop with NVIDIAÂ® GeForce RTXâ„¢ 3080', 'Google Pixelbook Go 13.3 inch 128GB i5 8th Gen1.30GHz 8GBÂ\\xa0ga00521-uk', 'ACER Swift 5 SF514-55T 14\" Laptop Intel Core i7 512 GB SSD Mist Green NEW/SEALED', 'Asus TUF Dash F15 15.6\" 144Hz Gaming Laptop Core i7 11370H 16GB GeForce RTX 3070', 'Cheap Dell Latitude 15.6\" Laptop Up to i7 8th Gen 16Gb 512GB SSD  Win 10 11', 'HP Spectre x360 13.3\" Touchscreen Laptop Intel Core i5-1035G4 8GB RAM, 256GB SSD', 'Lenovo IdeaPad 3i Intel Pentium Gold 7505U 4GB 128GB SSD 15.6\" Windows 10 Laptop', 'ACER Aspire 5 A514-54 14\" Laptop - Intel Core i5 8GB RAM 512 GB SSD', 'Lenovo Thinkpad X230 Core i5 2.60GHz 16GB Ram Office SSD Windows 10 Laptop', 'Cheap HP Chromebook 14\" Laptop Google play store 4GB RAM 16GB SSD 12M Warranty', 'Dell XPS 13 - 9310 - i7 5.0GHz 11th Gen - 16GB RAM - 1TB SSD - 13.4\" FHD+ ', 'HP Spectre x360 16\" 2-in-1 Touchscreen Laptop Core i7 11th Gen. 32GB RAM 1TB SSD', 'ASUS Vivobook Pro 15 M3500QC, AMD Ryzen 9 5900HX, 16GB RAM, 1TB SSD, 15.6\" OL...', 'iOTA Flo 360 11.6-inch Touchscreen Laptop (Intel Celeron Dual Core, 4GB RAM)', 'ASUS ROG Strix G15 Laptop 15.6\" - i5-10300H, 8GB, 512GB, GTX 1650Ti, 4GB', 'Google Pixelbook Go 13.3 inch (128GB, Intel Core M3 8th Gen., 1.30GHz, 8GB)...', 'Dell Precision 3560 Laptop 15.6\" Full HD, i7-1165G7, 16GB RAM,512GB SSD, NVIDIA', 'Lenovo 300e 2nd Gen Notebook 81M9 - Intel N4120 1.1GHz, 4GB RAM, 64GB eMMC', 'Huawei MateBook D 14 FHD Laptop  Intel Core i5 8GB 512GB SSD MX250 Windows 11 ', 'Lenovo IdeaPad Duet 3 10.3\" 2 in 1 Laptop Intel Celeron 4GB RAM 64GB eMMC', \"Lenovo IdeaPad Gaming 3 15 - Shadow Black Laptop, 15.6'', Windows 11 Home 64\", 'Panasonic Toughbook CF-19 Intel Core i5, Diagnostics Windows 10 Rugged Laptop 3G', 'HP EliteBook 840 G7 Laptop 14\" Touchscreen, Intel i5-10310U, 16GB RAM, 512GB SSD', 'MSI Delta 15 A5EFK-047UK 15.6\" FHD Gaming Laptop AMD R9-5900H 16GB RAM 1TB SSD', 'ASUS VivoBook X705MA 17.3\" Laptop - IntelÂ® Pentiumâ„¢ 8GB RAM, 1 TB HDD Win 11 HD+', 'ASUS Chromebook C223NA-GJ0014 Intel Celeron N3350 4Gb 32Gb eMMC 11.6\" HD Chrome', 'Lenovo Thinkpad X260 Core i5-6200U 2.30GHz 8GB 256GB SSD Webcam HDMI Laptop', 'Lenovo ThinkPad L390 Yoga Laptop i5-8265U 8GB RAM 256GB SSD 13.3\" FHD Touch IPS', 'ASUS M515DA AMD Ryzen 3 3250U Laptop 8GB RAM 256GB SSD 15.6 inch Windows 10 Pro', 'SUPER FAST WINDOWS 11 LAPTOP CORE I3 4GB/8GB RAM HDD SSD FREEGIFT WARRANTY', 'HP 14a 14\" Chromebook - Intel Celeron, 64 GB eMMC, White REFURBISHED A', 'ARKA Book 11.6\" Laptop - Celeron 1.1GHz CPU, 4GB RAM - Grade B', 'HP Stream 11 ak0021na 11.6\" Laptop Intel Celeron N4020 4GB RAM 64GB eMMC ', 'ASUS TUF Gaming Laptop Core i5 11 Gen RTX 3050 8GB 512GB SSD 15.6\" Windows 10', 'ASUS X515EA-BQ579W 15.6\" Full HD Laptop Core i7 8GB RAM 512GB SSD Silver C Grade', 'HP 255 G8 Ryzen 5 8GB 256GB SSD 15.6\" Win10 Home Laptop'] || Condition: ['Brand New', 'Brand new', 'Opened â€“ never used', 'Brand new', \"10% off with code HOT10, Max Â£50 by 25/07 T's&C's\", 'Very Good - Refurbished', 'Excellent - Refurbished', 'Brand new', 'Opened â€“ never used', 'Brand new', 'Opened â€“ never used', 'Brand new', 'NVIDIA GTX 1650 4GB GDDR6 Graphics,4.2GHz Hexa Core CPU', 'Brand new', 'BUY NOW TO RECEIVE FREE RECORDED DELIVERY AND WARRANTY', 'Excellent - Refurbished', 'Brand new', 'Opened â€“ never used', 'Opened â€“ never used', 'Opened â€“ never used', \"10% off with code HOT10, Max Â£50 by 25/07 T's&C's\", 'Very Good - Refurbished', 'Refurbished - 12 Month Warranty - Fast & Free Delivery', 'Excellent - Refurbished', 'Brand new', 'Opened â€“ never used', 'Brand new', 'Brand New and factory sealed. Checkout my feedback!', 'Brand new', 'Opened â€“ never used', \"10% off with code HOT10, Max Â£50 by 25/07 T's&C's\", 'Very Good - Refurbished', 'Brand new', 'Brand new', 'Brand new', 'Excellent - Refurbished', '1 Year Warranty / VAT Invoice Included', 'Excellent - Refurbished', 'Certified - Refurbished', 'Excellent - Refurbished', 'Excellent - Refurbished', \"10% off with code HOT10, Max Â£50 by 25/07 T's&C's\", 'Very Good - Refurbished', 'Big screen size 14\" ,Chrom OS, UK Charger, T4M32UT#ABA', 'Very Good - Refurbished', 'Brand new', 'Brand new', 'Brand new', 'Opened â€“ never used', 'Very Good - Refurbished', 'Opened â€“ never used', 'Brand new', 'Brand new', 'Brand new', 'Brand new', 'July Sale plus All VAT and duty included', 'Brand new', 'Part Of Ebays Refurbisher Programme For Elite Sellers', 'Very Good - Refurbished', 'Brand new', 'Brand new', 'Brand new', 'Excellent - Refurbished', \"10% off with code HOT10, Max Â£50 by 25/07 T's&C's\", 'Very Good - Refurbished', 'Brand new', 'Brand new', 'ðŸ’¥HIGH PERFORMANCE AGGRESSIVE PRICINGðŸ’¥', 'Very Good - Refurbished', 'Excellent - Refurbished', 'Grade B Stock from The Official CCL Store On eBay', 'Opened â€“ never used', 'Very Good - Refurbished', 'Brand new', 'Refurbished - 12 Month Warranty - Fast & Free Delivery', 'Very Good - Refurbished', 'Opened â€“ never used'] || Price: ['$20.00', 'Â£1,200.00', 'Â£206.00', 'Â£123.00', 'Â£199.99', 'Â£92.00', 'Â£599.00', 'Â£999.00', 'Â£500.00', 'Â£90.00', 'Â£299.99', 'Â£679.99 to Â£704.99', 'Â£219.99', 'Â£169.99', 'Â£97.00', 'Â£799.00', 'Â£899.99', 'Â£299.99', 'Â£699.99', 'Â£449.99', 'Â£148.00', 'Â£210.00', 'Â£119.99', 'Â£170.00', 'Â£349.99', 'Â£1,750.00', 'Â£529.99', 'Â£575.00', 'Â£899.99', 'Â£147.99 to Â£282.99', 'Â£649.99', 'Â£239.99', 'Â£329.99', 'Â£159.99 to Â£399.99', 'Â£84.99', 'Â£742.00', 'Â£1,449.00', 'Â£974.77', 'Â£119.95', 'Â£406.78', 'Â£350.00', 'Â£989.95', 'Â£80.00', 'Â£400.00', 'Â£130.00', 'Â£698.99', 'Â£179.99', 'Â£729.95', 'Â£950.00', 'Â£389.99', 'Â£79.99', 'Â£174.99', 'Â£579.99', 'Â£329.00', 'Â£99.99 to Â£130.99', 'Â£142.46', 'Â£89.99', 'Â£109.99', 'Â£649.00', 'Â£334.99', 'Â£399.00']\n",
      "\n",
      "laptop description: ['ASUS OLED Laptop ZenBook Pro Duo, Intel Core i9, 32GB RAM, 1TB SSD, 15.6 Inch', 'ACER Aspire 1 14\" Laptop - IntelÂ® Celeronâ„¢, 128 GB eMMC, Silver - REFURB-A', 'Lenovo V15 Laptop Intel Core i5-10210U 8GB RAM 256GB SSD 15.6\" FHD IPS Win10 Pro', 'CHEAP Dell Latitude E5430 Core i5-3210M 2.50GHz 8GB 320GB HDD Windows 10 Laptop', 'Refurbished Asus ZenBook UX425JA Core i3-1005G1 8GB 256GB SSD  A1/UX425JA-BM001T', 'ASUS ROG Zephyrus GA503 Ryzen 9 NVIDIA Geforce RTX 3070 Eclipse Grey', 'Lenovo Thinkpad T440P 14 in Laptop i5-4300M 2.60 GHz 4GB  500GB HDD Win 8', 'Google Pixelbook Go 13.3 inchÂ\\xa0128GB SSD  8GB RAM, Intel Core i5 8th Generation', 'Lenovo ThinkPad T470s Touchscreen Core i5-6300U 8GB/12GB 256GB/512GB FHD Laptop', 'Acer Chromebook CB514-1H 14\" Laptop Intel Celeron N3350 4GB 32GB eMMC', ' Panasonic Toughbook CF-53 Mk3 Rugged Laptop  i5 Win 7 or 10 4G Upto 16 Gb Ram', 'Samsung Chromebook 4 11.6 XE310XBA', 'Microsoft Surface Pro 8 13\", 256GB SSD 16GB RAM, Core i5 11th Gen, Platinum, New', 'Lenovo V14 AMD Athlon 3020e 8GB 256GB SSD 14 Inch Windows 10 Laptop 82C60057UK', 'Lenovo IdeaPad 3 CB 11IGL05 11.6\" (32GB eMMC, Intel Celeron N4020, 1.10 GHz, 4GB', 'Dell XPS 13 9360 Touchscreen i7-8550U 8GB Ram 256GB SSD Webcam Windows 11 Laptop', 'Samsung Galaxy Book 15.6\" Laptop i7 8GB RAM 512GB SSD Full HD Silver C Grade', 'NEW Microsoft Surface Laptop Studio i7 11th Gen 32GB 2TB RTX 3050Ti ', 'Windows7 Ultimate install Disk + USB Drive (64bit)', 'Dell Laptop Alienware 17 m17 R5 *SEALED* ', 'Asus E510MA Intel Celeron N4020 4GB 64GB SSD 15.6 Inch Windows 10 E510MA-EJ015TS', 'asus vivobook 15 E510MA', \"Lenovo Legion 5i Pro 16 - Storm Grey Laptop, 16.0'', Windows 11 Home 64\", 'Windows10 install Disk (64bit)', 'Microsoft Surface Go 3 10th Generation i3 8GB 128GB Touchscreen Tablet Laptop', 'Lenovo ThinkPad X270 Laptop Intel Core i5-6200U 8GB 180GB SSD 12.5\" Win 10 Pro ', 'NEW Lenovo Legion 5i Pro i7 12700H 16GB RTX 3070 1TB QHD 165Hz Gaming Laptop WTY', 'Dell XPS 13 9310 FHD 13.4\" - i7-1195G7 - 512 GB SSD - 16GB RAM - Brand New', 'ASUS VivoBook E402Y 14 HD Laptop AMD E2-7015 Processor 4GB RAM 64GB eMMC', 'Dell Latitude 5420 Core i7-1185G7vPro 16GB ram 512GB SSD 14â€� Win10 Pro  No Box', 'Lenovo ThinkPad X13 Gen 2 13.3 inch (256GB, Intel Core i5 11th Gen., 2.40GHz,...', 'New ASUS X413J 14in Laptop Notebook A Load Of New Accessories headset Bag  Desk', 'Panasonic Toughbook CF-54 MK2 i5, Win 10 Pro, 4G,Touch Rugged Laptop Up to 16 Gb', 'Lenovo 100e (2nd Gen) Laptop, 11.6\", Celeron N4120, 4GB, 64GB eMMC Windows 10Pro', 'Dell Latitude 5420 Core I5-1135g7 8gb RAM 256gb SSD 14\" FHD Win10 Pro Laptop', 'Gigabyte AERO 15 OLED SA-7UK5130SH Notebook, 15.6 OLED/i7-9750H 6 cores/GTX 1660', 'HP Stream Laptop 11-ak0030na with Microsoft 365 Personal 1 year subscription', 'HP EliteBook 830 G7 Laptop 13.3 Full HD Screen, i5-10310U, 256GB SSD, 16GB RAM', 'Acer Swift 1 SF114-34 Sakura Pink 14\" IPS Intel Pentium N6000 128GB SSD Laptop', 'HP Stream 11-ak0514sa 11.6\" Laptop - Intel Celeron, 64 GB eMMC, REFURBISHED A', 'ASUS X515EA-EJ300T 15.6\" Full HD Laptop Core i3 4GB RAM 128GB SSD Grey C Grade', 'Genuine Pitney Bowes Non FL Blue Franking Ink DM100i DM200i  793-5SB ', 'Windows7 install Disk - All Versions', 'SAMSUNG GALAXY BOOK PRO (13.3\", i5, 8GB, 512GB) MYSTIC SILVER (SEALED IN BOX)', 'Acer TravelMate Windows11 Laptop NoteBook 500Gb WiFi HDMI Cam Office USB 3.0', 'MSI GP66 Leopard 11UH-251UK Core i7-11800H 32GB 1TB SSD 15.6 Inch FHD 240Hz', 'New Fast ASUS 15.6\" HD Windows 11 Pro Laptop - With Microsoft Office 2019', 'ASUS ROG Zephyrus G15 GA503Q Ryzen 9 5900HS RTX3060 16Gb 1Tb SSD 15.6\" 144Hz', 'Lenovo ThinkPad T470S i7-7600U 2.6GHz Touch FHD 512GB 20GB Win10 NEW Warranty', 'Lenovo ThinkPad T480 i7-8650U Touch FHD IPS 512GB 16GB FPR BackLit NEW Warranty', 'Lenovo ThinkPad T15 i7-10610U 15.6\" FHD 512GB 16GB FPR Win10 NEW T590 WTY!', 'Lenovo ThinkPad X1 Yoga Gen 4 Touch 4K UHD i7-8665U 512GB 16GB Win10 PRO NEW WTY', 'gaming laptop Bundle', 'lenovo ideapad 1 11|GL05', 'Lenovo ThinkPad T490 i7-10510U Touch FHD 512GB 16GB FPR Win10 Pro T14 NEW/ WTY', 'Huawei Matebook D 14\" (512 GB, AMD Ryzen 5, 2.10 GHz, 8 GB) Laptop - Grey -...', 'Asus VivoBook X415JA 14\" (512GB M.2 SSD, Intel Core i7-1065G7, 8GB RAM, Win10)', 'microsoft surface pro 1796 with type cover both brand new sealedÂ\\xa0', 'ASUS TUF Gaming Laptop Ryzen 5 4600H RTX 3050 32GB RAM 512GB SSD 15.6\" Win 11', 'Acer 15.6\" Windows11 Laptop i5 3.2GHz Fast SSD WiFi HDMI DVD-RW Webcam - Boxed'] || Condition: ['Brand New', 'Opened â€“ never used', 'Excellent - Refurbished', 'Brand new', \"10% off with code HOT10, Max Â£50 by 25/07 T's&C's\", 'Very Good - Refurbished', 'Free Delivery | 30 Day Return', 'Excellent - Refurbished', 'Opened â€“ never used', 'Opened â€“ never used', 'Opened â€“ never used', \"10% off with code HOT10, Max Â£50 by 25/07 T's&C's\", 'Very Good - Refurbished', 'Very Good - Refurbished', 'Part Of Ebays Refurbisher Programme For Elite Sellers', 'Very Good - Refurbished', 'Brand new', 'Brand new', 'Free Delivery | 30 Day Return', 'Brand new', 'Brand new', \"10% off with code HOT10, Max Â£50 by 25/07 T's&C's\", 'Very Good - Refurbished', 'Refurbished - 12 Month Warranty - Fast & Free Delivery', 'Very Good - Refurbished', 'Brand new', 'Brand new', 'Brand new', 'Â£20 OFF WITH CODE: LAPTOP20', 'Brand new', 'Brand new', 'July Sale plus All VAT and duty included', 'Brand new', 'Brand new', 'Brand new', 'Brand new', 'Brand new', 'Brand new', 'Opened â€“ never used', 'Brand new', 'Brand new', 'Brand new', 'Essential 1 Year Warranty, Covers Intact,Diagnostics', 'Very Good - Refurbished', 'Brand new', 'Opened â€“ never used', 'Brand new', 'Brand new', 'Opened â€“ never used', 'Opened â€“ never used', 'Excellent - Refurbished', 'Refurbished - 12 Month Warranty - Fast & Free Delivery', 'Very Good - Refurbished', 'Brand new', 'Brand new', 'Brand new', 'BUY NOW TO RECEIVE FREE RECORDED DELIVERY AND WARRANTY', 'Excellent - Refurbished', 'Opened â€“ never used', 'Brand new', 'Opened â€“ never used', 'New (other)', 'New (other)', 'New (other)', 'New (other)', 'Opened â€“ never used', 'Opened â€“ never used', 'Brand new', 'Brand new', 'Opened â€“ never used', 'Brand new', 'Brand new', 'BUY NOW TO RECEIVE FREE RECORDED DELIVERY AND WARRANTY', 'Excellent - Refurbished'] || Price: ['$20.00', 'Â£2,150.00', 'Â£139.30', 'Â£494.99', 'Â£119.99', 'Â£285.96', 'Â£895.00', 'Â£90.00', 'Â£449.00', 'Â£189.99 to Â£339.99', 'Â£99.99', 'Â£399.99 to Â£674.99', 'Â£110.00', 'Â£899.00', 'Â£218.96', 'Â£71.00', 'Â£299.99', 'Â£279.99', 'Â£1,800.00', 'Â£11.99', 'Â£1,550.00', 'Â£185.96', 'Â£165.00', 'Â£1,499.99', 'Â£5.99', 'Â£260.00', 'Â£319.99', 'Â£1,399.00', 'Â£975.00', 'Â£98.79', 'Â£540.00', 'Â£550.00', 'Â£298.00', 'Â£769.99', 'Â£100.00', 'Â£310.00', 'Â£390.00', 'Â£169.99', 'Â£579.95', 'Â£239.99', 'Â£132.30', 'Â£212.99', 'Â£29.99', 'Â£5.99', 'Â£599.99', 'Â£139.99', 'Â£1,800.00', 'Â£299.00', 'Â£1,299.00', 'Â£253.29', 'Â£389.49', 'Â£573.02', 'Â£499.11', 'Â£850.00', 'Â£125.00', 'Â£494.12', 'Â£469.99', 'Â£350.00', 'Â£550.00', 'Â£879.00', 'Â£264.99']\n",
      "\n",
      "laptop description: ['HP Laptop 14s-fq0060na 14\" AMD 3020e, 4GB RAM, 64GB eMMC, Burgundy, HD', 'Dell Inspiron Laptop Stylus / Pencil Holder. Secure Your Investment.', 'Dell Latitude 5420 Laptop,14\" FHD Screen,11th Gen I5-1145G7, 256GB SSD, 16GB RAM', 'THINKPAD T15 GEN1 i7-1165G7 32GB RAM 512GB NVME -', 'Lenovo V14 G2 Core i5 8GB 256GB SSD 14\" FHD Win11 Pro Laptop', 'Razer Blade Pro 17, 17.3\" FHD 300Hz, i7-10875H, 32GB RAM,1TB SSD, RTX 2080 Super', 'CHEAP AND FAST! WINDOWS 10 CORE i3/i5 LAPTOP 240GB SSD OR 1TB HDD 8GB RAM', 'Toshiba Satellite L730-11X 13.3\" Core i3 128GB SSD HDMI WiFi CAM W10 Laptop', 'NEW Acer Swift 1 SF114-34 14\" Pink Laptop Pentium N6000, 4GB, 256GB NX.A9UEK.002', 'Acer Predator Triton 300 SE, Intel Core i7, 16GB RAM , 1TB SSD, NH.QBJEK.006', 'Brand New Dell Latitude 5175 M3 (will be) Win10 Pro 128GB SSD Full HD Tablet', 'Lenovo ThinkPad X13 Gen 2 Laptop 16Gb 256Gb SSD - Brand New & Warranty June 2024', 'Brand New and Sealed Dell Latitude 5175 M3 Win 8 Pro Full HD 128GB SSD Tablet ', 'HP Pavilion 14-dv0511sa 14\" Laptop - Intel Core i3, Silver - REFURBISHED GRADE A', 'Lenovo ThinkPad T14 Gen 2 - Intel Core i7-1165G7 512GB SSD 32GB RAM FHD Warranty', 'Microsoft Surface Pro 8 13\" Touch 512GB SSD, Intel Core i7 11th Gen., 4.80 GHz', 'Lenovo ThinkPad T14 ~ 14â€� FHD ~ i5-10210U ~ 16Gb ~ 256Gb ~ 2 Year Warranty', 'CHEAP FAST Dell Chromebook 5190 11.6\" Intel Celeron 1.10 GHz 4GB 16GB Chrome OS', 'MSI Stealth GF65 15.6\" Intel i7-10750H 512GB SSD 16GB RAM RTX 3060 - Win 10/11', 'Lenovo THINKPAD P15v i7-OCTACORE Uhd-Hdr 64GB 4TB-SSD LTE Warranty', 'CHEAP Lenovo Thinkpad T410 Core i5 520M 2.60GHz 4GB 160GB HDD Windows 10 Laptop', 'HP Pavilion 14-DV0498SA 14\" FHD Touch Intel i3-1115G4 256GB SSD 8GB RAM - Win 11', 'Laptop Dell Latitude E7470 14in 6th Gen i5 i7 8GB 16GB RAM 128GB 256GB SSD, VG', 'Acer Aspire A514-54 14\" Intel Core i7-1165G7 8GB RAM 1TB SSD Laptop - Win 11', 'Asus Chromebook C223, Intel Celeron Processor, 4GB RAM, 32GB eMMC, 11.6\", Grey', '2 Units UP9011Q UP9011 UP9011O P9011Q 100% New Original QFN-32 Bransd New', '1 Unity TPS51916 51916 DDR2 DDR3 DDR3L Qfn 100% Original Brand New', '2 Pieces TPS51220A Tps 51220A QFN-32 New 100% Original Brand New', '1 Unity SY8286 SY8286B SY8286BRAC AWV5LC AWV5QB AWV5 QFN-20 Brand New', '1 Unity CSD87350Q5D CSD87350 87350D 87350 QFN-8 Brand New 100% Original', '1 Unity QM3016D M3016D M3016 A-252', '343S0583 Ic U4003 Touch For IPAD Air air2 Mini 4 100% Original Brand New', 'Connector Keyboard J4810 20 Pins Macbook Pro A1708 13 \" 2016 Sign 820-00875', 'Connector LCD Lvds FPC 42 Pins Macbook Pro A1706 A1707 A1990 A2159 A2289 A2251', '1 Unity IT8586E-FXA Programmed Motherboard FG541/FG741 NM-C361', 'HP 15s-fq4553sa 15.6\" (256GB SSD, Intel Core i5-1155G7, up to 4.5Ghz 4GB RAM,...', 'Brand new Samsung Chromebook 4 laptop sealed unopened', 'Lenovo ThinkPad X260 Core i5-6200U 4GB / 8GB Ram 128GB / 240GB SSD Laptop', 'Dell Inspiron 16 Plus 7610 Laptop i7 11800H 16GB 512GB SSD 3K 3072x1920', 'HP Gaming Laptop 250 G6 15.6\" Core i3 2.00Ghz, 8GB, SSD, Webcam, Windows 10', 'HP 15.6\" Full HD Laptop - AMD Athlon 8GB RamÂ\\xa0256G SSD - Windows 11 Home', 'ASUS VivoBook E203 Laptop Pentium Silver N5000 4GB RAM 64GB eMMC 11.6\" Win10 Pro', 'IBM Lenovo THINKPAD T430 T420 T410 x230 510 New mouse pad cover  easy retro fit ', 'Lenovo V14-ADA AMD Ryzen 3 3250U 8GB 256GB SSD 14â€� Full HD Windows 10 Pro Laptop', 'HP 14s-dq2019na 14\" Full HD Laptop Core i3 8GB RAM 128GB SSD Silver C Grade', 'HP Laptop ZBook 17 G4 17.3\" i7-8200HQ @2.9 GHz 32GB 512GB SSD M2200 1080p', 'HP EliteBook x360 Core i5-7300U 16GB Ram 512GB  Windows 11 Touchscreen Laptop.', 'Alienware m15 r7 AMD Intel Core i7 RTX 3060 GDDR6 512GB SSD 165Hz', 'BRAND NEW SEALED LENOVO LAPTOP 100E 2ND GEN HD 4GB RAM 99p START', 'HP 15S-FQ2039NA 15.6\" (128GB SSD, Intel Core i3 11th Gen., 4.10 GHz, 4GB) Laptop', 'Lenovo ThinkPad X1 Yoga Gen 6 Touch i7 vPro 11th Gen 16GB RAM 512GB SSD Laptop', 'LENOVO IdeaPad 1i 14\" Laptop - IntelÂ® Celeronâ„¢, 64 GB eMMC, Grey REFURB A', 'ACER Aspire 5 A514-54 14\" Laptop - Intel Core i3, Silver - REFURBISHED A', 'lenovo chromebook', 'âœ… NEXT DAY DELIVERYâœ…GREY LENEVO IdeaPad Duet 3i 10.3\" 2 in 1 Laptop', 'Samsung Galaxy Tab A6 SM-T285 8GB 7\" WiFi + Cell Unlocked Android Tablet Black', 'Lenovo Ideapad D330-10IGM 81MD Intel Pentium N5000 Processor 4GB RAM 128GB SSD', 'Samsung Galaxy Book Pro Mystic Blue 13.3\" 256GB Laptop Intel i5 4G LTE 8GB RAM', 'Dell Latitude 3480 I5 7200U 8GB RAM 128GB SSD 14inch Windows 10 Pro Laptop', 'HP 15-dw1025na Intel Pentium Gold 6405U 8GB RAM 1TB HDD 15.6\" Laptop Black'] || Condition: ['Brand New', 'Brand new', 'Brand new', 'Opened â€“ never used', 'Opened â€“ never used', 'Brand new', 'Excellent - Refurbished', 'â\\xad�CUSTOMISE YOUR OWN!â\\xad�1 YEAR WARRANTY!â\\xad�FREE LAPTOP BAG!â\\xad�', 'Very Good - Refurbished', 'Excellent - Refurbished', 'Brand new', 'Brand new', 'Brand new', 'Opened â€“ never used', 'Brand new', 'Excellent - Refurbished', 'Opened â€“ never used', 'Opened â€“ never used', 'Opened â€“ never used', 'Excellent - Refurbished', 'Opened â€“ never used', 'Opened â€“ never used', \"10% off with code HOT10, Max Â£50 by 25/07 T's&C's\", 'Very Good - Refurbished', 'Very Good - Refurbished', \"10% off with code HOT10, Max Â£75 by 25/07 T's&C's\", 'Very Good - Refurbished', 'Very Good - Refurbished', 'Opened â€“ never used', 'Brand new', 'Brand new', 'Brand new', 'Brand new', 'Brand new', 'Brand new', 'Brand new', 'Brand new', 'Brand new', 'Brand new', 'Opened â€“ never used', 'Brand new', \"10% off with code HOT10, Max Â£50 by 25/07 T's&C's\", 'Very Good - Refurbished', 'Opened â€“ never used', 'Very Good - Refurbished', 'Opened â€“ never used', 'Opened â€“ never used', 'Brand new', 'Brand new', 'Refurbished - 12 Month Warranty - Fast & Free Delivery', 'Very Good - Refurbished', 'Very Good - Refurbished', 'TouchScreenâœ… FullHD 1920x1080p âœ… 360 Rotateâœ… VAT Incl.âœ…', 'Very Good - Refurbished', 'Brand new', 'Brand new', 'Brand new', 'Opened â€“ never used', 'Excellent - Refurbished', 'Excellent - Refurbished', 'Brand new', 'Brand new', 'Very Good - Refurbished', 'Brand new', 'Opened â€“ never used', 'Very Good - Refurbished', 'Very Good - Refurbished'] || Price: ['$20.00', 'Â£199.99', 'Â£6.24', 'Â£400.00', 'Â£690.00', 'Â£379.98', 'Â£1,349.95', 'Â£109.98 to Â£194.98', 'Â£129.90 to Â£339.87', 'Â£336.00', 'Â£857.99', 'Â£129.00', 'Â£485.75', 'Â£133.00', 'Â£300.30', 'Â£460.00', 'Â£850.00', 'Â£355.00', 'Â£64.99', 'Â£732.00', 'Â£1,580.69 to Â£2,084.59', 'Â£99.99', 'Â£369.95', 'Â£250.00 to Â£290.00', 'Â£400.00', 'Â£87.77', 'Â£11.94', 'Â£4.43', 'Â£5.17', 'Â£6.31', 'Â£5.06', 'Â£3.82', 'Â£9.17', 'Â£9.52', 'Â£10.04', 'Â£21.10', 'Â£205.00', 'Â£92.00', 'Â£119.99 to Â£229.99', 'Â£699.00', 'Â£199.99', 'Â£299.00', 'Â£87.00', 'Â£2.30', 'Â£269.00', 'Â£195.99', 'Â£549.99', 'Â£449.99', 'Â£1,040.00', 'Â£102.00', 'Â£285.00', 'Â£1,250.00', 'Â£167.30', 'Â£244.30', 'Â£149.99', 'Â£137.00', 'Â£49.99', 'Â£359.00', 'Â£498.00', 'Â£107.00', 'Â£219.99']\n",
      "\n",
      "laptop description: ['Toshiba Dynabook Satelite Pro C40-G-110 14\" 10th Gen i5-10210U 8GB RAM 256GB SSD', 'HP x360 14\" 2 in 1 Chromebook - Silver, i3, 128GB , 8GB RAM', 'DELL XPS 15 9510 i7-11800H UHD+ 16GB RAM 512GB PCIe Windows 11 Never used', 'HP Victus 16.1in R7 16GB 512GB RTX3060 Gaming Laptop', 'Assus Zenbook Duo', 'Windows7 Pro install USB Drive (64bit)', 'Acer Chromebook  Spin 14\" 514 CP514-1H - AMD Ryzen 5 3500C, 8GB RAM, 128GB eMMC', 'Lenovo IdeaPad Flex 5 Laptop Ryzen 3 5300U 8GB 256GB SSD 14\" FHD IPS Touch W10 S', 'Dell Latitude 3420 Core i5-1135G7 8GB 256GB SSD 14 Inch Windows 10 Pro Lap T83HJ', 'LENOVO IdeaPad Duet 3i 10.3\" 2 in 1 Laptop - IntelÂ® CeleronÂ®, 64 GB eMMC, GreyÂ\\xa0', 'HP ProBook 635 Aero G8 13.3\" AMD Ryzen 5 5600U 256GB SSD 16GB RAM 12Mo Warranty ', ' Lenovo ThinkBook 15 G2 ITL 15.6\" Core i7 1165G7 - 16 GB RAM - 512 GB SSD', 'Lenovo V15 Laptop Intel Celeron N4020 8GB RAM 256GB SSD 15.6\" Windows 10 Home', 'ASUS ROG Flow X16 Laptop (Ryzen 9 6900HS, RTX 3070Ti, 32GB RAM, 1TB SSD, 165Hz)', 'HP 14in 2-in-1 Silver Chromebook - Intel i3-10110U 8GB RAM 64GB eMMC  14C-CA0053', 'HP 14in 2-in-1 Silver Chromebook - Intel i3-10110U 8GB RAM 64GB eMMC  14C-CA0053', 'Acer Chromebook Spin 713 13.5\" Laptop Core i5 10210U 10th Gen 8GB RAM 128GB SSD', 'FAST Lenovo ThinkPad X1 Yoga TOUCHSCREEN Laptop Core i7-6600U 16GB 240GB/512GB', 'Asus VivoBook M413DA-EK378T AMD Ryzen 7 3700U 1Tb SSD 8Gb 14\" Full HD W10', 'NEW WINDOWS 11 INTEL J LAPTOP 13.3\" 15.6\" HD 6/8GB RAM 64/120/256GB SSD SLIM', 'Dell XPS 9320 13inch laptop', 'NEW Razer Blade 15 Advanced 2022 i7 12800H RTX 3080 Ti 32GB 1TB QHD 240Hz Laptop', 'CHEAP FAST! Windows 10 Dual Core Laptop  - Spec Your Own! âœ…', 'Asus E410MA-BV003TS 14\" Laptop Intel Celeron 4GB RAM 64GB eMMC Blue Navy', 'HP 11a 11.6â€³ Chromebook â€“ IntelÂ® Celeronâ„¢, 16 GB eMMC', 'Microsoft Surface Studio 14.4\" Laptop Core i7 16GB RAM 512GB SSD C Grade', 'Lenovo V15-IML Core i5-1021U 8GB 256GB SSD 15.6 Inch Full HD IPS Wind 82NB003LUK', 'HP 14a 14\" Chromebook - Intel Pentium Silver, 128 GB eMMC, REFURBISHED A', 'HP ENVY X360 15.6\" Convertible Laptop Core i7 16GB RAM 512GB SSD Silver C Grade', 'ASUS Chromebook Laptop Intel Celeron N3350 4GB RAM 32GB eMMC 11.6\" Chrome OS', 'Lenovo gaming laptop 14.1\" Intel I5 2ND 2.5Ghz 8GB 480GB SSD DVD Windows 10 ', 'HP 250 G7 Notebook PC, Celeron N4020, 4GB RAM, 128GB SSD, 15.6\" BNIB', 'HP Chromebook x360 14c-cc0505na With Stylus & Case', 'Lenovo Thinkpad T470 Core i5-6300U 2.40GHz 8GB DDR4 256GB SSD HDMI Webcam Laptop', \"HP 250 G7 Laptop, 15.6'', Celeron N4020, 4GB, 128GB SSD, No Optical, Windows 10 \", 'Microsoft Surface Laptop 4 13.5 inch (512GB, Intel Core i5 11th Gen.,...', 'asus notepad m415d 12â€�screen has never been used.silver in colour comes with com', 'HP ELITEBOOK 840 G3 laptop / i5-6200U @ 2.3GHz / 16GB DDR4 / 256GB SSD /WIN10', 'ASUS Chromebook CX1400CNA-BV0061 - 14in HD, Intel Celeron, 4GB RAM, 64GB Storage', 'Razer Blade 14 Gaming Laptop Ryzen 9 5900HX 16GB RAM RTX3080  1TB SSD', 'Alienware x17 R2 i7 12700H RTX 3080 TI 32GB 1TB 360Hz Gaming Laptop', 'Lenovo IdeaPad 5 Ryzen 7 5700U 8GB 512GB SSD 15.6 Inch Windows 10 Lap 82LN00ENUK', \"Google Pixelbook 128GB SSD 12.3' 8GB RAM i5 Intel Core Touch Screen Chromebook\", 'TOSHIBA W100 UMPC DUAL SCREEN LAPTOP BOXED WIN 7 512GB SSD 2GB RAM RARE UNIT.', 'HP Stream 11-ak0514sa 11.6\" Laptop Intel Celeron N4020 4GB RAM 64GB eMMC Pink', 'Lenovo IdeaPad Flex 3 Chromebook Laptop Celeron N4500 4GB 64GB eMMC 11.6\" Touch', 'OMEN by HP 17-ck0000na Gaming Laptop with NVIDIAÂ® GeForce RTXâ„¢ 3080 (BRAND NEW)', 'ASUS C424 14\" Pentium 4GB 64GB Chromebook - Silver C424MA-EB0079', 'LG Gram Intel i7-1165G7 16GB RAM 1 TB SSD  17\" Light Laptop 17Z90P-K.AA78A1', 'Acer 314 14 Inch Intel Pentium 4GB 64GB eMMC Chromebook Grade B.', 'Original Battery Pentax D-LI7 Fujifilm Finepix NP-120', 'Samsung Galaxy Book Pro 360 15.6\" (512GB SSD, Intel Core i5 11th Gen., 4.20 GHz,', 'Asus C423NA-EB0290 Chromebook Intel N3350 4GB RAM, 64GB eMMC 14\" FHD', 'BRAND NEW & SEALED DELL LATITUDE 3190 LAPTOP (INTEL CPU, emm 128gbSSD & 4GB RAM)', 'Samsung Galaxy Book Pro 15.6\" (512GB SSD, Intel Core i7 11th Gen., 4.70 GHz,...', 'Alienware x17 R2 i9 12900HK RTX 3080 TI 16GB 1TB 360Hz Gaming Laptop', 'Microsoft Surface Pro 4 Core i5 4GB Ram 256GB / 512GB BRAND NEW SCREEN Tablet', 'HP Pavilion x360 14-dw0521 Intel Core i5 14\" FHD LCD 8GB RAM 256GB SSD Win 11', 'HP Pavilion x360 14-dy0517sa 14in 2-in-1Silver Laptop - I Intel i5-1135G7 8GB RA'] || Condition: ['Brand New', 'Opened â€“ never used', 'Opened â€“ never used', 'Opened â€“ never used', 'Brand new', 'Brand new', 'Brand new', 'Brand new', 'â€œCertified Refurbished / 1Yr Warranty / 30 Day Returnsâ€�', 'Certified - Refurbished', 'Free Delivery | 30 Day Return', 'Brand new', 'Brand new', 'Brand new', 'Brand new', 'Brand new', 'Brand new', 'Opened â€“ never used', 'Brand new', 'Brand new', \"10% off with code HOT10, Max Â£50 by 25/07 T's&C's\", 'Very Good - Refurbished', 'Excellent - Refurbished', 'Brand new', 'Opened â€“ never used', 'Opened â€“ never used', 'â\\xad�CUSTOMISE YOUR OWN!â\\xad�1 YEAR WARRANTY!â\\xad�FREE DELIVERY!â\\xad�', 'Very Good - Refurbished', 'Refurbished - 12 Month Warranty - Fast & Free Delivery', 'Excellent - Refurbished', 'Brand new', 'Refurbished - 12 Month Warranty - Fast & Free Delivery', 'Very Good - Refurbished', 'Brand new', 'Excellent - Refurbished', 'Refurbished - 12 Month Warranty - Fast & Free Delivery', 'Very Good - Refurbished', 'â€œCertified Refurbished / 1Yr Warranty / 30 Day Returnsâ€�', 'Excellent - Refurbished', 'Very Good - Refurbished', 'Very Good - Refurbished', 'Brand new', 'Opened â€“ never used', \"10% off with code HOT10, Max Â£50 by 25/07 T's&C's\", 'Very Good - Refurbished', 'Brand new', 'Opened â€“ never used', 'Opened â€“ never used', 'Excellent - Refurbished', 'Brand new', 'Brand new', 'Brand new', 'Free Delivery | 30 Day Return', 'Brand new', 'Opened â€“ never used', 'Opened â€“ never used', 'Refurbished - 12 Month Warranty - Fast & Free Delivery', 'Excellent - Refurbished', 'Brand new', 'Brand new', 'Brand new', 'Brand new', 'Opened â€“ never used', 'Brand new', 'Brand new', 'Opened â€“ never used', 'Brand new', 'Brand new', 'Brand new', \"10% off with code HOT10, Max Â£50 by 25/07 T's&C's\", 'Excellent - Refurbished', 'Opened â€“ never used', 'Opened â€“ never used'] || Price: ['$20.00', 'Â£274.99', 'Â£299.00', 'Â£949.00', 'Â£640.00', 'Â£620.00', 'Â£8.99', 'Â£314.99', 'Â£389.99', 'Â£725.96', 'Â£159.99', 'Â£525.00', 'Â£549.00', 'Â£279.99', 'Â£2,099.99', 'Â£259.99', 'Â£299.99', 'Â£350.00', 'Â£329.99 to Â£395.99', 'Â£329.99', 'Â£112.99 to Â£174.99', 'Â£1,270.00', 'Â£2,599.00', 'Â£89.98 to Â£109.98', 'Â£129.99', 'Â£56.00', 'Â£1,064.99', 'Â£300.00', 'Â£244.30', 'Â£614.99', 'Â£109.99', 'Â£208.82 to Â£489.69', 'Â£380.00', 'Â£185.00', 'Â£420.00', 'Â£229.99', 'Â£217.76', 'Â£741.00', 'Â£320.00', 'Â£294.95 to Â£357.99', 'Â£132.00', 'Â£1,200.00', 'Â£1,950.00', 'Â£505.96', 'Â£384.99', 'Â£349.00', 'Â£122.99', 'Â£199.97', 'Â£1,700.00', 'Â£129.95', 'Â£997.00', 'Â£185.00', 'Â£16.10', 'Â£513.88', 'Â£109.99', 'Â£72.00', 'Â£550.00', 'Â£2,100.00', 'Â£199.99 to Â£364.99', 'Â£435.00', 'Â£459.95']\n",
      "\n",
      "laptop description: ['HP Pavilion X360 14 inch (128 GB, Intel Pentium Gold 7505, 3.50GHz, 4GB) 2 in 1', 'Lenovo IdeaPad 3-14ITL05 14\" FHD Laptop Intel Pentium Gold 7505 4GB 128GB SSD', 'Panasonic Toughpad Toughbook FZ-G1, i5, 4GB RAM, 128GB SSD,Win 10 Pro, Tablet 3G', 'HP ProBook 450 G8, 15.6\" Full HD Screen, i7-1165G7, 512GB SSD,16GB RAM, iRis XE', 'Dell Precision 3560 Laptop 15.6\" Full HD, i7-1165G7, 16GB RAM, 512GB SSD, NVIDIA', 'HP Chromebook x360 14a-ca0001na 2-in-1 Laptop Touchscreen Intel N5030 64GB Flash', 'HP X2 Chromebook 11\" (128GB) 4G LTE', 'Microsoft Windows XP Sticker Genuine Product These Were Supplied On Laptops', 'HP Elite Dragonfly G2 13.3\" Touch Laptop Intel Core i7 11th Gen 16GB RAM 512GB', 'HP Laptop 14s-fq0023na - Blue', 'Lenovo ThinkPad X280 ( Intel Core i5 8th Gen., 1.70 GHz, 16 GB)', '**Reelva 12 in 1 Network Computer Maintenance Tool Kit Cable Tester**', 'HP Stream Laptop 11-ak0028na with Microsoft 365 Personal 1 year subscription', 'Samsung Chromebook 4+ 11.6\" HD(32GB eMMC, Intel Celeron N, 2.60GHz, 4GB) ', 'Razer Blade Advanced 15 i7-10875H 2080 Super 1TB SSD 16GB RAM 300HZ REFURBED', 'Dell Vostro 5515 15.6\" AMD Ryzen 5 5500U 256GB SSD 8GB RAM Grey - Win 11 Pro', 'Lenovo Yoga 6 13ALC6 256GB SSD 8GB Ram AMD RYZEN 5 3 months old used once', 'Alienware X17 R2, 1TB SSD, SEALED, Intel Core i9 12900HK, 3080 TI | LATEST MODEL', 'Lenovo G50-80 Intel Core i3-5005U 500GB/1TB HDD 15.6\" Windows 10 Laptop', '2021 Lenovo Legion 5 15.6â€� FHD 165Hz, Ryzen 7 5800H, RTX 3070, 1TB SSD, 16GB RAM', 'Lenovo 100e Intel N4020 2nd Generation Chromebook 32GB EMMC, 4GB RAM,11.6\" ', 'HP EliteBook 840 G8 Laptop 14\" Full HD Screen, i5-1135G7, 256GB SSD, 8GB RAM', 'RPB Â£3999, ASUS ROG Strix Scar G733CX 17.3\"(2TB, Intel Core i9 12th Gen( Sealed)', 'Dell Latitude 9420 2-in-1 Laptop, 14\" QHD Touch, i7-1185G7, 32GB RAM, 512GB SSD', 'Asus TUF Gaming FX705DU-AU035T 17.3\" Laptop 256GB SSD 1TB HDD GTX1660Ti', 'HP Victus Gaming Laptop - Ryzen 7, 16GB Ram, 512 GB SSD GeForce RTXâ„¢ 3060', 'Alienware x17 R2 Gaming Laptop, 360Hz, i7-12700H, 32GB RAM, 1TB SSD, RTX 3080Ti', 'OMEN HP Laptop 16-c0008na 16.1\" QHD, AMD Ryzenâ„¢ 9, 32GB RAM, 1TB SSD, RTXâ„¢ 3070', 'Dell XPS 9500 Laptop, 15.6\" 4K Touch, i7-10750H, 32GB RAM, 1TB SSD, GTX 1650Ti', 'Acer Chromebook Spin 514 CP514-1H  (AMD Ryzen 3, 8GB, 128GB 14 inch Touchscreen', 'NEW Alienware X17 R2 i9 12900HK 32GB RTX 3080 Ti 175W 1TB 360Hz Gaming Laptop', 'Microsoft Surface Pro 5 Core i5 2.60GHz 8GB Ram 256GB SSD Windows 11 Tablet', 'NEW Alienware X17 R2 i9 12900HK 32GB RTX 3080 Ti 175W 1TB 360Hz Gaming Laptop', 'Alienware x17 R2 Gaming Laptop, 360Hz, i7-12700H, 32GB RAM, 1TB SSD, RTX 3080Ti', 'HP EliteBook 840 G8 14\" FHD Laptop. Intel i5, 256 GB SSD, 8 GB RAM, Windows 10 P', 'Alienware x17 R2 Gaming Laptop, 360Hz, i7-12700H, 32GB RAM, 1TB SSD, RTX 3080Ti', 'NEW Alienware M15 R7 i7 12700H 16GB RTX 3060 512GB 165Hz Fast Gaming Laptop', 'Microsoft Surface Pro 4 Core i5-6300U 8GB Ram 256GB SSD Windows 11 12.3\" Tablet', 'Acer Chromebook Spin 513 CP513-1H 13.3\" Convertible Laptop 4GB 64GB C Grade', 'FAST CHEAP DELL/HP/LENOVO CORE i3/i5 LAPTOP 8GB RAM 500GB HDD Wi-Fi WINDOWS 10', 'ASUS C436 Flip Touch Chromebook 14â€™â€™ 14inch HD Intel Core i5 256GB 8GB Brand New', 'ASUS TUF Gaming Laptop Ryzen 7 4800H 8GB RAM 512GB SSD RTX 3050 15.6\" Windows 11', 'HP PROBOOK 450 G6 8TH GEN CORE I5-8265U 8GB RAM 256GB 15.6\" WINDOWS 11 LAPTOP.', 'Razer Blade 15 Advanced 2022 i7 12800H RTX 3070 Ti 16GB 1TB 240Hz Laptop', 'Sony VAIO SVE17 17.3\" i7 3632QM 16GB 500GB SSD  Laptop Windows 10.2014 ', 'Windows10 install Flash Drive (64bit)', 'HP Omen 17-CK0501NA Gaming Laptop 17.3\" QHD i7-11800H 16GB 1TB RTX 3060 4H2Y6EA ', 'Dell XPS 9510 15.6\" FHD+ (512 SSD, Intel Core i7 11-800H, 16GB, 3050Ti) Silver', 'Lenovo ThinkBook 14 G2 ITL Laptop, Intel Core i7-1165G7 2.8GHz, 16GB DDR4, 51...', 'Alienware m15 R6 Gaming Laptop i7 11800H 16GB 1TB SSD 8GB NVIDIA RTX 3070', 'ALIENWARE X17 R2 2022 | RTX 3080 Ti 12th Gen | 64GB 2TB SSD LAPTOP + 1YR WRTY !!', 'Asus Vivobook K513EA 15 OLED i7 11th Gen 16GB 512GB 15.6\" Laptop - K513EA-L1897T', 'Brand new Dell Inspiron 15 3505 AMD Ryzen TM 3 3250U 8GB 256 GB SSD', 'Dell Latitude 5520 Silver Laptop 15.6\" Full HD, i5-1145G7, 16GB RAM, 512GB SSD', 'Asus Vivobook  M513U Ryzen 5 5500 8GB 512 gb SSD OLED screen  Top of the range ', 'NEW Alienware M15 R7 i7 12700H 16GB RTX 3060 512GB 165Hz Fast Gaming Laptop', 'Acer Nitro 5 15.6 inch (256GB, Intel Core i5 10th Gen., 4.50GHz, 8GB) Gaming...', 'Alienware M15 R5, Ryzen 5800H, 8GB RAM, 256GB SSD, 4GB RTX 3050Ti', 'Lenovo Laptop Yoga Slim 7 Pro 16 Full HD Ryzen 7 5800H, 16 GB / 512GB SSD', 'Lenovo Chromebook C340-15 Laptop 15.6\" i3-8130U 4GB 64GB Chrome OS 81T9000AUK'] || Condition: ['Brand New', 'Opened â€“ never used', 'Very Good - Refurbished', 'Part Of Ebays Refurbisher Programme For Elite Sellers', 'Very Good - Refurbished', 'Brand new', 'Brand new', 'Opened â€“ never used', 'Brand new', 'Brand new', 'Opened â€“ never used', 'Opened â€“ never used', 'Opened â€“ never used', 'Brand new', 'Brand new', 'Brand new', 'Opened â€“ never used', 'Opened â€“ never used', 'Opened â€“ never used', 'Brand new', 'LENOVO UK DEALER STOCK -', 'Very Good - Refurbished', 'Brand new', 'Brand new', 'Brand new', 'Brand new', 'Brand new', 'Refurbished - 12 Month Warranty - Fast & Free Delivery', 'Excellent - Refurbished', 'Brand new', 'Brand new', 'Brand new', 'Opened â€“ never used', 'Brand new', 'Brand new', \"10% off with code HOT10, Max Â£50 by 25/07 T's&C's\", 'Very Good - Refurbished', 'Brand new', 'Brand new', 'Brand new', 'Brand new', 'Brand new', \"10% off with code HOT10, Max Â£50 by 25/07 T's&C's\", 'Very Good - Refurbished', 'Refurbished - 12 Month Warranty - Fast & Free Delivery', 'Very Good - Refurbished', 'Very Good - Refurbished', 'Brand new', 'Brand new', 'Very Good - Refurbished', 'Brand new', 'Opened â€“ never used', 'Brand new', 'Brand new', 'Brand new', 'Brand new', 'Opened â€“ never used', 'Brand new', 'Brand new', 'Brand new', 'Brand new', 'Brand new', 'Brand new', 'Opened â€“ never used', 'Brand new', 'Brand new', 'Brand new'] || Price: ['$20.00', 'Â£150.00', 'Â£169.99', 'Â£349.99', 'Â£899.95', 'Â£949.95', 'Â£215.99', 'Â£461.92', 'Â£1.70', 'Â£689.99', 'Â£124.99', 'Â£150.00', 'Â£34.99', 'Â£169.99', 'Â£80.00', 'Â£1,150.00', 'Â£390.00', 'Â£400.00', 'Â£2,399.00', 'Â£139.99 to Â£149.99', 'Â£1,149.00', 'Â£90.00', 'Â£699.95', 'Â£3,600.00', 'Â£1,349.95', 'Â£899.99', 'Â£899.99', 'Â£2,299.95', 'Â£1,699.99', 'Â£1,249.95', 'Â£299.00', 'Â£2,449.00', 'Â£219.99 to Â£319.99', 'Â£2,549.00', 'Â£1,700.00', 'Â£489.00', 'Â£1,700.00', 'Â£1,470.00', 'Â£209.99 to Â£309.99', 'Â£139.99', 'Â£119.99 to Â£154.99', 'Â£450.00', 'Â£679.00', 'Â£369.99', 'Â£1,844.00', 'Â£799.00', 'Â£8.99', 'Â£638.00', 'Â£1,240.00', 'Â£843.47', 'Â£1,299.00', 'Â£3,295.95', 'Â£560.00', 'Â£274.74', 'Â£719.95', 'Â£400.00', 'Â£1,170.00', 'Â£360.00', 'Â£650.00', 'Â£645.00', 'Â£399.00']\n",
      "\n"
     ]
    },
    {
     "ename": "KeyboardInterrupt",
     "evalue": "",
     "output_type": "error",
     "traceback": [
      "\u001b[1;31m---------------------------------------------------------------------------\u001b[0m",
      "\u001b[1;31mKeyboardInterrupt\u001b[0m                         Traceback (most recent call last)",
      "\u001b[1;32m~\\AppData\\Local\\Temp/ipykernel_16560/3074004300.py\u001b[0m in \u001b[0;36m<module>\u001b[1;34m\u001b[0m\n\u001b[0;32m      2\u001b[0m     \u001b[0mlink\u001b[0m \u001b[1;33m=\u001b[0m \u001b[1;34m'https://www.ebay.co.uk/sch/i.html?_from=R40&_nkw=laptops&_sacat=0&LH_ItemCondition=1000%7C1500%7C2000%7C2010%7C2020&LH_Sold=1&rt=nc&_pgn='\u001b[0m\u001b[1;33m\u001b[0m\u001b[1;33m\u001b[0m\u001b[0m\n\u001b[0;32m      3\u001b[0m     \u001b[0mreq\u001b[0m \u001b[1;33m=\u001b[0m \u001b[0mRequest\u001b[0m\u001b[1;33m(\u001b[0m\u001b[0mlink\u001b[0m \u001b[1;33m+\u001b[0m \u001b[0mstr\u001b[0m\u001b[1;33m(\u001b[0m\u001b[0mpage\u001b[0m\u001b[1;33m)\u001b[0m\u001b[1;33m,\u001b[0m \u001b[0mheaders\u001b[0m \u001b[1;33m=\u001b[0m \u001b[0mheader\u001b[0m\u001b[1;33m)\u001b[0m\u001b[1;33m\u001b[0m\u001b[1;33m\u001b[0m\u001b[0m\n\u001b[1;32m----> 4\u001b[1;33m     \u001b[0mwebpage\u001b[0m \u001b[1;33m=\u001b[0m \u001b[0murlopen\u001b[0m\u001b[1;33m(\u001b[0m\u001b[0mreq\u001b[0m\u001b[1;33m)\u001b[0m\u001b[1;33m.\u001b[0m\u001b[0mread\u001b[0m\u001b[1;33m(\u001b[0m\u001b[1;33m)\u001b[0m\u001b[1;33m\u001b[0m\u001b[1;33m\u001b[0m\u001b[0m\n\u001b[0m\u001b[0;32m      5\u001b[0m     \u001b[0msoup1\u001b[0m \u001b[1;33m=\u001b[0m \u001b[0mBeautifulSoup\u001b[0m\u001b[1;33m(\u001b[0m\u001b[0mwebpage\u001b[0m\u001b[1;33m,\u001b[0m \u001b[1;34m'html5lib'\u001b[0m\u001b[1;33m)\u001b[0m\u001b[1;33m\u001b[0m\u001b[1;33m\u001b[0m\u001b[0m\n\u001b[0;32m      6\u001b[0m     \u001b[0mcontent\u001b[0m \u001b[1;33m=\u001b[0m \u001b[0msoup1\u001b[0m\u001b[1;33m.\u001b[0m\u001b[0mfind_all\u001b[0m\u001b[1;33m(\u001b[0m\u001b[1;34m'div'\u001b[0m\u001b[1;33m,\u001b[0m \u001b[1;33m{\u001b[0m\u001b[1;34m'class'\u001b[0m \u001b[1;33m:\u001b[0m \u001b[1;34m's-item__info clearfix'\u001b[0m\u001b[1;33m}\u001b[0m\u001b[1;33m)\u001b[0m\u001b[1;33m\u001b[0m\u001b[1;33m\u001b[0m\u001b[0m\n",
      "\u001b[1;32m~\\AppData\\Local\\Programs\\Python\\Python310\\lib\\http\\client.py\u001b[0m in \u001b[0;36mread\u001b[1;34m(self, amt)\u001b[0m\n\u001b[0;32m    457\u001b[0m \u001b[1;33m\u001b[0m\u001b[0m\n\u001b[0;32m    458\u001b[0m         \u001b[1;32mif\u001b[0m \u001b[0mself\u001b[0m\u001b[1;33m.\u001b[0m\u001b[0mchunked\u001b[0m\u001b[1;33m:\u001b[0m\u001b[1;33m\u001b[0m\u001b[1;33m\u001b[0m\u001b[0m\n\u001b[1;32m--> 459\u001b[1;33m             \u001b[1;32mreturn\u001b[0m \u001b[0mself\u001b[0m\u001b[1;33m.\u001b[0m\u001b[0m_read_chunked\u001b[0m\u001b[1;33m(\u001b[0m\u001b[0mamt\u001b[0m\u001b[1;33m)\u001b[0m\u001b[1;33m\u001b[0m\u001b[1;33m\u001b[0m\u001b[0m\n\u001b[0m\u001b[0;32m    460\u001b[0m \u001b[1;33m\u001b[0m\u001b[0m\n\u001b[0;32m    461\u001b[0m         \u001b[1;32mif\u001b[0m \u001b[0mamt\u001b[0m \u001b[1;32mis\u001b[0m \u001b[1;32mnot\u001b[0m \u001b[1;32mNone\u001b[0m\u001b[1;33m:\u001b[0m\u001b[1;33m\u001b[0m\u001b[1;33m\u001b[0m\u001b[0m\n",
      "\u001b[1;32m~\\AppData\\Local\\Programs\\Python\\Python310\\lib\\http\\client.py\u001b[0m in \u001b[0;36m_read_chunked\u001b[1;34m(self, amt)\u001b[0m\n\u001b[0;32m    580\u001b[0m         \u001b[1;32mtry\u001b[0m\u001b[1;33m:\u001b[0m\u001b[1;33m\u001b[0m\u001b[1;33m\u001b[0m\u001b[0m\n\u001b[0;32m    581\u001b[0m             \u001b[1;32mwhile\u001b[0m \u001b[1;32mTrue\u001b[0m\u001b[1;33m:\u001b[0m\u001b[1;33m\u001b[0m\u001b[1;33m\u001b[0m\u001b[0m\n\u001b[1;32m--> 582\u001b[1;33m                 \u001b[0mchunk_left\u001b[0m \u001b[1;33m=\u001b[0m \u001b[0mself\u001b[0m\u001b[1;33m.\u001b[0m\u001b[0m_get_chunk_left\u001b[0m\u001b[1;33m(\u001b[0m\u001b[1;33m)\u001b[0m\u001b[1;33m\u001b[0m\u001b[1;33m\u001b[0m\u001b[0m\n\u001b[0m\u001b[0;32m    583\u001b[0m                 \u001b[1;32mif\u001b[0m \u001b[0mchunk_left\u001b[0m \u001b[1;32mis\u001b[0m \u001b[1;32mNone\u001b[0m\u001b[1;33m:\u001b[0m\u001b[1;33m\u001b[0m\u001b[1;33m\u001b[0m\u001b[0m\n\u001b[0;32m    584\u001b[0m                     \u001b[1;32mbreak\u001b[0m\u001b[1;33m\u001b[0m\u001b[1;33m\u001b[0m\u001b[0m\n",
      "\u001b[1;32m~\\AppData\\Local\\Programs\\Python\\Python310\\lib\\http\\client.py\u001b[0m in \u001b[0;36m_get_chunk_left\u001b[1;34m(self)\u001b[0m\n\u001b[0;32m    563\u001b[0m                 \u001b[0mself\u001b[0m\u001b[1;33m.\u001b[0m\u001b[0m_safe_read\u001b[0m\u001b[1;33m(\u001b[0m\u001b[1;36m2\u001b[0m\u001b[1;33m)\u001b[0m  \u001b[1;31m# toss the CRLF at the end of the chunk\u001b[0m\u001b[1;33m\u001b[0m\u001b[1;33m\u001b[0m\u001b[0m\n\u001b[0;32m    564\u001b[0m             \u001b[1;32mtry\u001b[0m\u001b[1;33m:\u001b[0m\u001b[1;33m\u001b[0m\u001b[1;33m\u001b[0m\u001b[0m\n\u001b[1;32m--> 565\u001b[1;33m                 \u001b[0mchunk_left\u001b[0m \u001b[1;33m=\u001b[0m \u001b[0mself\u001b[0m\u001b[1;33m.\u001b[0m\u001b[0m_read_next_chunk_size\u001b[0m\u001b[1;33m(\u001b[0m\u001b[1;33m)\u001b[0m\u001b[1;33m\u001b[0m\u001b[1;33m\u001b[0m\u001b[0m\n\u001b[0m\u001b[0;32m    566\u001b[0m             \u001b[1;32mexcept\u001b[0m \u001b[0mValueError\u001b[0m\u001b[1;33m:\u001b[0m\u001b[1;33m\u001b[0m\u001b[1;33m\u001b[0m\u001b[0m\n\u001b[0;32m    567\u001b[0m                 \u001b[1;32mraise\u001b[0m \u001b[0mIncompleteRead\u001b[0m\u001b[1;33m(\u001b[0m\u001b[1;34mb''\u001b[0m\u001b[1;33m)\u001b[0m\u001b[1;33m\u001b[0m\u001b[1;33m\u001b[0m\u001b[0m\n",
      "\u001b[1;32m~\\AppData\\Local\\Programs\\Python\\Python310\\lib\\http\\client.py\u001b[0m in \u001b[0;36m_read_next_chunk_size\u001b[1;34m(self)\u001b[0m\n\u001b[0;32m    523\u001b[0m     \u001b[1;32mdef\u001b[0m \u001b[0m_read_next_chunk_size\u001b[0m\u001b[1;33m(\u001b[0m\u001b[0mself\u001b[0m\u001b[1;33m)\u001b[0m\u001b[1;33m:\u001b[0m\u001b[1;33m\u001b[0m\u001b[1;33m\u001b[0m\u001b[0m\n\u001b[0;32m    524\u001b[0m         \u001b[1;31m# Read the next chunk size from the file\u001b[0m\u001b[1;33m\u001b[0m\u001b[1;33m\u001b[0m\u001b[0m\n\u001b[1;32m--> 525\u001b[1;33m         \u001b[0mline\u001b[0m \u001b[1;33m=\u001b[0m \u001b[0mself\u001b[0m\u001b[1;33m.\u001b[0m\u001b[0mfp\u001b[0m\u001b[1;33m.\u001b[0m\u001b[0mreadline\u001b[0m\u001b[1;33m(\u001b[0m\u001b[0m_MAXLINE\u001b[0m \u001b[1;33m+\u001b[0m \u001b[1;36m1\u001b[0m\u001b[1;33m)\u001b[0m\u001b[1;33m\u001b[0m\u001b[1;33m\u001b[0m\u001b[0m\n\u001b[0m\u001b[0;32m    526\u001b[0m         \u001b[1;32mif\u001b[0m \u001b[0mlen\u001b[0m\u001b[1;33m(\u001b[0m\u001b[0mline\u001b[0m\u001b[1;33m)\u001b[0m \u001b[1;33m>\u001b[0m \u001b[0m_MAXLINE\u001b[0m\u001b[1;33m:\u001b[0m\u001b[1;33m\u001b[0m\u001b[1;33m\u001b[0m\u001b[0m\n\u001b[0;32m    527\u001b[0m             \u001b[1;32mraise\u001b[0m \u001b[0mLineTooLong\u001b[0m\u001b[1;33m(\u001b[0m\u001b[1;34m\"chunk size\"\u001b[0m\u001b[1;33m)\u001b[0m\u001b[1;33m\u001b[0m\u001b[1;33m\u001b[0m\u001b[0m\n",
      "\u001b[1;32m~\\AppData\\Local\\Programs\\Python\\Python310\\lib\\socket.py\u001b[0m in \u001b[0;36mreadinto\u001b[1;34m(self, b)\u001b[0m\n\u001b[0;32m    703\u001b[0m         \u001b[1;32mwhile\u001b[0m \u001b[1;32mTrue\u001b[0m\u001b[1;33m:\u001b[0m\u001b[1;33m\u001b[0m\u001b[1;33m\u001b[0m\u001b[0m\n\u001b[0;32m    704\u001b[0m             \u001b[1;32mtry\u001b[0m\u001b[1;33m:\u001b[0m\u001b[1;33m\u001b[0m\u001b[1;33m\u001b[0m\u001b[0m\n\u001b[1;32m--> 705\u001b[1;33m                 \u001b[1;32mreturn\u001b[0m \u001b[0mself\u001b[0m\u001b[1;33m.\u001b[0m\u001b[0m_sock\u001b[0m\u001b[1;33m.\u001b[0m\u001b[0mrecv_into\u001b[0m\u001b[1;33m(\u001b[0m\u001b[0mb\u001b[0m\u001b[1;33m)\u001b[0m\u001b[1;33m\u001b[0m\u001b[1;33m\u001b[0m\u001b[0m\n\u001b[0m\u001b[0;32m    706\u001b[0m             \u001b[1;32mexcept\u001b[0m \u001b[0mtimeout\u001b[0m\u001b[1;33m:\u001b[0m\u001b[1;33m\u001b[0m\u001b[1;33m\u001b[0m\u001b[0m\n\u001b[0;32m    707\u001b[0m                 \u001b[0mself\u001b[0m\u001b[1;33m.\u001b[0m\u001b[0m_timeout_occurred\u001b[0m \u001b[1;33m=\u001b[0m \u001b[1;32mTrue\u001b[0m\u001b[1;33m\u001b[0m\u001b[1;33m\u001b[0m\u001b[0m\n",
      "\u001b[1;32m~\\AppData\\Local\\Programs\\Python\\Python310\\lib\\ssl.py\u001b[0m in \u001b[0;36mrecv_into\u001b[1;34m(self, buffer, nbytes, flags)\u001b[0m\n\u001b[0;32m   1271\u001b[0m                   \u001b[1;34m\"non-zero flags not allowed in calls to recv_into() on %s\"\u001b[0m \u001b[1;33m%\u001b[0m\u001b[1;33m\u001b[0m\u001b[1;33m\u001b[0m\u001b[0m\n\u001b[0;32m   1272\u001b[0m                   self.__class__)\n\u001b[1;32m-> 1273\u001b[1;33m             \u001b[1;32mreturn\u001b[0m \u001b[0mself\u001b[0m\u001b[1;33m.\u001b[0m\u001b[0mread\u001b[0m\u001b[1;33m(\u001b[0m\u001b[0mnbytes\u001b[0m\u001b[1;33m,\u001b[0m \u001b[0mbuffer\u001b[0m\u001b[1;33m)\u001b[0m\u001b[1;33m\u001b[0m\u001b[1;33m\u001b[0m\u001b[0m\n\u001b[0m\u001b[0;32m   1274\u001b[0m         \u001b[1;32melse\u001b[0m\u001b[1;33m:\u001b[0m\u001b[1;33m\u001b[0m\u001b[1;33m\u001b[0m\u001b[0m\n\u001b[0;32m   1275\u001b[0m             \u001b[1;32mreturn\u001b[0m \u001b[0msuper\u001b[0m\u001b[1;33m(\u001b[0m\u001b[1;33m)\u001b[0m\u001b[1;33m.\u001b[0m\u001b[0mrecv_into\u001b[0m\u001b[1;33m(\u001b[0m\u001b[0mbuffer\u001b[0m\u001b[1;33m,\u001b[0m \u001b[0mnbytes\u001b[0m\u001b[1;33m,\u001b[0m \u001b[0mflags\u001b[0m\u001b[1;33m)\u001b[0m\u001b[1;33m\u001b[0m\u001b[1;33m\u001b[0m\u001b[0m\n",
      "\u001b[1;32m~\\AppData\\Local\\Programs\\Python\\Python310\\lib\\ssl.py\u001b[0m in \u001b[0;36mread\u001b[1;34m(self, len, buffer)\u001b[0m\n\u001b[0;32m   1127\u001b[0m         \u001b[1;32mtry\u001b[0m\u001b[1;33m:\u001b[0m\u001b[1;33m\u001b[0m\u001b[1;33m\u001b[0m\u001b[0m\n\u001b[0;32m   1128\u001b[0m             \u001b[1;32mif\u001b[0m \u001b[0mbuffer\u001b[0m \u001b[1;32mis\u001b[0m \u001b[1;32mnot\u001b[0m \u001b[1;32mNone\u001b[0m\u001b[1;33m:\u001b[0m\u001b[1;33m\u001b[0m\u001b[1;33m\u001b[0m\u001b[0m\n\u001b[1;32m-> 1129\u001b[1;33m                 \u001b[1;32mreturn\u001b[0m \u001b[0mself\u001b[0m\u001b[1;33m.\u001b[0m\u001b[0m_sslobj\u001b[0m\u001b[1;33m.\u001b[0m\u001b[0mread\u001b[0m\u001b[1;33m(\u001b[0m\u001b[0mlen\u001b[0m\u001b[1;33m,\u001b[0m \u001b[0mbuffer\u001b[0m\u001b[1;33m)\u001b[0m\u001b[1;33m\u001b[0m\u001b[1;33m\u001b[0m\u001b[0m\n\u001b[0m\u001b[0;32m   1130\u001b[0m             \u001b[1;32melse\u001b[0m\u001b[1;33m:\u001b[0m\u001b[1;33m\u001b[0m\u001b[1;33m\u001b[0m\u001b[0m\n\u001b[0;32m   1131\u001b[0m                 \u001b[1;32mreturn\u001b[0m \u001b[0mself\u001b[0m\u001b[1;33m.\u001b[0m\u001b[0m_sslobj\u001b[0m\u001b[1;33m.\u001b[0m\u001b[0mread\u001b[0m\u001b[1;33m(\u001b[0m\u001b[0mlen\u001b[0m\u001b[1;33m)\u001b[0m\u001b[1;33m\u001b[0m\u001b[1;33m\u001b[0m\u001b[0m\n",
      "\u001b[1;31mKeyboardInterrupt\u001b[0m: "
     ]
    }
   ],
   "source": [
    "\n",
    "\n",
    "\n",
    "\n",
    "for page in range(1, 40):\n",
    "    link = 'https://www.ebay.co.uk/sch/i.html?_from=R40&_nkw=laptops&_sacat=0&LH_ItemCondition=1000%7C1500%7C2000%7C2010%7C2020&LH_Sold=1&rt=nc&_pgn='\n",
    "    req = Request(link + str(page), headers = header)\n",
    "    webpage = urlopen(req).read()\n",
    "    soup1 = BeautifulSoup(webpage, 'html5lib')\n",
    "    content = soup1.find_all('div', {'class' : 's-item__info clearfix'})\n",
    "    laptop_disc = [name.text for name in soup1.find_all('h3', {'class' : 's-item__title s-item__title--has-tags'})]\n",
    "    state = [status.text for status in soup1.find_all('div', {'class' : 's-item__subtitle'})]\n",
    "    price = [name.text for name in soup1.find_all('span', {'class' : 's-item__price'})]\n",
    "    \n",
    "    #print(f'laptop description: {laptop_disc} || Condition: {state} || Price: {price}')\n",
    "    data = {\n",
    "    'laptop_disc': laptop_disc,\n",
    "    'condition': state,\n",
    "    'price': price\n",
    "    }\n",
    "\n",
    "    \n",
    "    #ebay_data = pd.DataFrame(data)\n",
    "    \n",
    "    ebay_data = pd.DataFrame.from_dict(data, orient = 'index')\n",
    "    \n",
    "    ebay_data = ebay_data.transpose()\n",
    "    \n",
    "    ebay_data = ebay_data.append(ebay_data)\n",
    "    \n",
    "    ebay_data.to_csv('data.csv', index = None)\n",
    "    \n",
    "    \n",
    "    \n",
    "    #ebay_data.to_csv('ebay_data.csv', index = None)\n",
    "    "
   ]
  },
  {
   "cell_type": "code",
   "execution_count": null,
   "id": "54698797-2484-4298-922f-8b6a6c94717d",
   "metadata": {},
   "outputs": [],
   "source": []
  }
 ],
 "metadata": {
  "kernelspec": {
   "display_name": "Python 3 (ipykernel)",
   "language": "python",
   "name": "python3"
  },
  "language_info": {
   "codemirror_mode": {
    "name": "ipython",
    "version": 3
   },
   "file_extension": ".py",
   "mimetype": "text/x-python",
   "name": "python",
   "nbconvert_exporter": "python",
   "pygments_lexer": "ipython3",
   "version": "3.10.2"
  }
 },
 "nbformat": 4,
 "nbformat_minor": 5
}

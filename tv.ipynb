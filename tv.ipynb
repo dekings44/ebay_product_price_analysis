{
 "cells": [
  {
   "cell_type": "code",
   "execution_count": null,
   "id": "17b63cb5-907d-4684-afb6-adf3419a0d05",
   "metadata": {},
   "outputs": [],
   "source": [
    "#importing the libraries needed \n",
    "import pandas as pd\n",
    "import numpy as np\n",
    "import requests\n",
    "from bs4 import BeautifulSoup\n",
    "from time import sleep\n",
    "from random import randint"
   ]
  },
  {
   "cell_type": "code",
   "execution_count": null,
   "id": "3a884a09-302f-4ed2-b91c-e457f85a56b1",
   "metadata": {},
   "outputs": [],
   "source": [
    "#Declaring the headers \n",
    "headers = {'User-Agent':'Mozilla/5.0 (Macintosh; Intel Mac OS X 10_13_6) AppleWebKit/537.36 (KHTML, like Gecko) Chrome/71.0.3578.98 Safari/537.36'}\n",
    "\n",
    "#declaring the list of empty variables, So that we can append the data overall\n",
    "\n",
    "tv_name = []\n",
    "tv_state = []\n",
    "tv_price =[]\n",
    "\n",
    "\n",
    "#creating an array of values and passing it in the url for dynamic webpages\n",
    "pages = np.arange(1,50,1)\n",
    "\n",
    "#the whole core of the script\n",
    "for page in pages:\n",
    "    page = requests.get(\"https://www.ebay.co.uk/sch/i.html?_from=R40&_nkw=tv&_sacat=11071&_ipg=240&_pgn=\"+str(page))\n",
    "    soup = BeautifulSoup(page.text, 'html.parser')\n",
    "    acc_data = soup.find_all('div', {'class': 's-item__info clearfix'})\n",
    "    sleep(randint(2,6))\n",
    "    # print(acc_data[0])\n",
    "    for store in acc_data:\n",
    "        name = store.find('h3', {'class' : 's-item__title'}).text\n",
    "        tv_name.append(name)\n",
    "        \n",
    "        state = store.find('span', {'class' : 'SECONDARY_INFO'}).text\n",
    "        tv_state.append(state)\n",
    "        \n",
    "        price = store.find('span', {'class' : 's-item__price'}).text\n",
    "        tv_price.append(price)"
   ]
  },
  {
   "cell_type": "code",
   "execution_count": null,
   "id": "436811f2-8288-436f-b7cc-1c3f889cb3a1",
   "metadata": {},
   "outputs": [],
   "source": [
    "data = pd.DataFrame({\"TV detail\": tv_name, \"TV State\" : tv_state, \"TV Price\": tv_price})\n",
    "\n",
    "print(data.head())\n",
    "\n",
    "data.to_csv('ebay_tv.csv', index = None)"
   ]
  }
 ],
 "metadata": {
  "kernelspec": {
   "display_name": "Python 3 (ipykernel)",
   "language": "python",
   "name": "python3"
  },
  "language_info": {
   "codemirror_mode": {
    "name": "ipython",
    "version": 3
   },
   "file_extension": ".py",
   "mimetype": "text/x-python",
   "name": "python",
   "nbconvert_exporter": "python",
   "pygments_lexer": "ipython3",
   "version": "3.10.7"
  }
 },
 "nbformat": 4,
 "nbformat_minor": 5
}

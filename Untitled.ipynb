{
 "cells": [
  {
   "cell_type": "code",
   "execution_count": 1,
   "id": "4bb352ba-f771-45bf-8b3f-e160296b0714",
   "metadata": {},
   "outputs": [],
   "source": [
    "from urllib.request import Request, urlopen\n",
    "import requests\n",
    "from bs4 import BeautifulSoup\n",
    "import re\n",
    "import pandas as pd\n",
    "import numpy as np\n",
    "from time import sleep\n",
    "from random import randint\n",
    "import matplotlib.pyplot as plt\n",
    "import seaborn as sns\n",
    "import plotly.express as px"
   ]
  },
  {
   "cell_type": "code",
   "execution_count": 2,
   "id": "718bf075-459a-4cbe-8d80-84621250675f",
   "metadata": {},
   "outputs": [],
   "source": [
    "url_link = 'https://www.ebay.co.uk/sch/i.html?_from=R40&_nkw=laptops&_sacat=0&LH_ItemCondition=1000%7C1500%7C2000%7C2010%7C2020&LH_Sold=1&rt=nc'"
   ]
  },
  {
   "cell_type": "code",
   "execution_count": 3,
   "id": "00957904-15ce-49e8-a8d2-f4aca9769a06",
   "metadata": {},
   "outputs": [],
   "source": [
    "header = {'User-Agent':'Mozilla/5.0 (Macintosh; Intel Mac OS X 10_13_6) AppleWebKit/537.36 (KHTML, like Gecko) Chrome/71.0.3578.98 Safari/537.36'}"
   ]
  },
  {
   "cell_type": "code",
   "execution_count": 5,
   "id": "a6b5296d-abdf-48b0-adc3-59c04f17bf93",
   "metadata": {},
   "outputs": [],
   "source": [
    "web_page = requests.get(url_link, headers=header)"
   ]
  },
  {
   "cell_type": "code",
   "execution_count": 6,
   "id": "5ebe755c-166a-400a-9e0b-13e256129989",
   "metadata": {},
   "outputs": [
    {
     "data": {
      "text/plain": [
       "503"
      ]
     },
     "execution_count": 6,
     "metadata": {},
     "output_type": "execute_result"
    }
   ],
   "source": [
    "web_page.status_code"
   ]
  },
  {
   "cell_type": "code",
   "execution_count": null,
   "id": "a94c9a50-b98b-46a3-8826-63d3cee31798",
   "metadata": {},
   "outputs": [],
   "source": []
  }
 ],
 "metadata": {
  "kernelspec": {
   "display_name": "Python 3 (ipykernel)",
   "language": "python",
   "name": "python3"
  },
  "language_info": {
   "codemirror_mode": {
    "name": "ipython",
    "version": 3
   },
   "file_extension": ".py",
   "mimetype": "text/x-python",
   "name": "python",
   "nbconvert_exporter": "python",
   "pygments_lexer": "ipython3",
   "version": "3.10.2"
  }
 },
 "nbformat": 4,
 "nbformat_minor": 5
}
